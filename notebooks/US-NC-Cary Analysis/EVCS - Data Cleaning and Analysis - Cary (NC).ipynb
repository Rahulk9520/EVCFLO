{
 "cells": [
  {
   "cell_type": "markdown",
   "metadata": {},
   "source": [
    "# Data Cleaning and Analysis of Cary in North Carolina, US "
   ]
  },
  {
   "cell_type": "code",
   "execution_count": 1,
   "metadata": {},
   "outputs": [],
   "source": [
    "import pandas as pd\n",
    "import numpy as np\n",
    "import scipy.stats\n",
    "import matplotlib.pyplot as plt\n",
    "%matplotlib inline\n",
    "import matplotlib.ticker as ticker\n",
    "import datetime\n",
    "from datetime import datetime as dt\n",
    "from fitter import Fitter\n",
    "import seaborn as sns\n",
    "import warnings\n",
    "warnings.filterwarnings(\"ignore\")"
   ]
  },
  {
   "cell_type": "code",
   "execution_count": 13,
   "metadata": {},
   "outputs": [],
   "source": [
    "# Read CSV file of Cary charging station usage dataset\n",
    "df = pd.read_csv(\"/Users/merry/Documents/Deakin - Master of Data Science/T2 2022/SIT782/Datasets/Cary-NC-US-EVCS.csv\")"
   ]
  },
  {
   "cell_type": "markdown",
   "metadata": {},
   "source": [
    "## Data Cleaning"
   ]
  },
  {
   "cell_type": "code",
   "execution_count": 14,
   "metadata": {},
   "outputs": [
    {
     "data": {
      "text/html": [
       "<div>\n",
       "<style scoped>\n",
       "    .dataframe tbody tr th:only-of-type {\n",
       "        vertical-align: middle;\n",
       "    }\n",
       "\n",
       "    .dataframe tbody tr th {\n",
       "        vertical-align: top;\n",
       "    }\n",
       "\n",
       "    .dataframe thead th {\n",
       "        text-align: right;\n",
       "    }\n",
       "</style>\n",
       "<table border=\"1\" class=\"dataframe\">\n",
       "  <thead>\n",
       "    <tr style=\"text-align: right;\">\n",
       "      <th></th>\n",
       "      <th>start_date</th>\n",
       "      <th>station_name</th>\n",
       "      <th>charging_time_hh_mm_ss</th>\n",
       "      <th>energy_kwh</th>\n",
       "      <th>zip_postal_code</th>\n",
       "      <th>fee</th>\n",
       "      <th>model_number</th>\n",
       "      <th>latitude</th>\n",
       "      <th>longitude</th>\n",
       "      <th>geopoint</th>\n",
       "    </tr>\n",
       "  </thead>\n",
       "  <tbody>\n",
       "    <tr>\n",
       "      <th>0</th>\n",
       "      <td>2022-03-31T23:55:44+00:00</td>\n",
       "      <td>TOWN OF CARY / DT DECK P2 (2)</td>\n",
       "      <td>2:34:03</td>\n",
       "      <td>9.417</td>\n",
       "      <td>27511</td>\n",
       "      <td>0</td>\n",
       "      <td>CT4020-HD-GW</td>\n",
       "      <td>35.785385</td>\n",
       "      <td>-78.779701</td>\n",
       "      <td>35.785385</td>\n",
       "    </tr>\n",
       "    <tr>\n",
       "      <th>1</th>\n",
       "      <td>2022-03-30T22:31:38+00:00</td>\n",
       "      <td>TOWN OF CARY / DT DECK P2 (2)</td>\n",
       "      <td>1:23:33</td>\n",
       "      <td>8.708</td>\n",
       "      <td>27511</td>\n",
       "      <td>0</td>\n",
       "      <td>CT4020-HD-GW</td>\n",
       "      <td>35.785385</td>\n",
       "      <td>-78.779701</td>\n",
       "      <td>35.785385</td>\n",
       "    </tr>\n",
       "    <tr>\n",
       "      <th>2</th>\n",
       "      <td>2022-03-30T17:09:49+00:00</td>\n",
       "      <td>TOWN OF CARY / BOND PARK BH</td>\n",
       "      <td>1:13:00</td>\n",
       "      <td>4.394</td>\n",
       "      <td>27513</td>\n",
       "      <td>0</td>\n",
       "      <td>CT4020-HD-GW</td>\n",
       "      <td>35.781303</td>\n",
       "      <td>-78.825554</td>\n",
       "      <td>35.781303</td>\n",
       "    </tr>\n",
       "    <tr>\n",
       "      <th>3</th>\n",
       "      <td>2022-03-30T13:41:38+00:00</td>\n",
       "      <td>TOWN OF CARY / DT DECK P2 (2)</td>\n",
       "      <td>1:14:07</td>\n",
       "      <td>6.926</td>\n",
       "      <td>27511</td>\n",
       "      <td>0</td>\n",
       "      <td>CT4020-HD-GW</td>\n",
       "      <td>35.785385</td>\n",
       "      <td>-78.779701</td>\n",
       "      <td>35.785385</td>\n",
       "    </tr>\n",
       "    <tr>\n",
       "      <th>4</th>\n",
       "      <td>2022-03-30T13:15:23+00:00</td>\n",
       "      <td>TOWN OF CARY / BOND PARK BH</td>\n",
       "      <td>0:31:06</td>\n",
       "      <td>1.725</td>\n",
       "      <td>27513</td>\n",
       "      <td>0</td>\n",
       "      <td>CT4020-HD-GW</td>\n",
       "      <td>35.781303</td>\n",
       "      <td>-78.825554</td>\n",
       "      <td>35.781303</td>\n",
       "    </tr>\n",
       "  </tbody>\n",
       "</table>\n",
       "</div>"
      ],
      "text/plain": [
       "                  start_date                   station_name  \\\n",
       "0  2022-03-31T23:55:44+00:00  TOWN OF CARY / DT DECK P2 (2)   \n",
       "1  2022-03-30T22:31:38+00:00  TOWN OF CARY / DT DECK P2 (2)   \n",
       "2  2022-03-30T17:09:49+00:00    TOWN OF CARY / BOND PARK BH   \n",
       "3  2022-03-30T13:41:38+00:00  TOWN OF CARY / DT DECK P2 (2)   \n",
       "4  2022-03-30T13:15:23+00:00    TOWN OF CARY / BOND PARK BH   \n",
       "\n",
       "  charging_time_hh_mm_ss  energy_kwh  zip_postal_code  fee  model_number  \\\n",
       "0                2:34:03       9.417            27511    0  CT4020-HD-GW   \n",
       "1                1:23:33       8.708            27511    0  CT4020-HD-GW   \n",
       "2                1:13:00       4.394            27513    0  CT4020-HD-GW   \n",
       "3                1:14:07       6.926            27511    0  CT4020-HD-GW   \n",
       "4                0:31:06       1.725            27513    0  CT4020-HD-GW   \n",
       "\n",
       "    latitude  longitude   geopoint  \n",
       "0  35.785385 -78.779701  35.785385  \n",
       "1  35.785385 -78.779701  35.785385  \n",
       "2  35.781303 -78.825554  35.781303  \n",
       "3  35.785385 -78.779701  35.785385  \n",
       "4  35.781303 -78.825554  35.781303  "
      ]
     },
     "execution_count": 14,
     "metadata": {},
     "output_type": "execute_result"
    }
   ],
   "source": [
    "df = df.drop([\"address_1\", \"address_2\", \"city\", \"state_province\"], axis = 1)\n",
    "df.head()"
   ]
  },
  {
   "cell_type": "code",
   "execution_count": 15,
   "metadata": {},
   "outputs": [
    {
     "data": {
      "text/plain": [
       "(1025, 10)"
      ]
     },
     "execution_count": 15,
     "metadata": {},
     "output_type": "execute_result"
    }
   ],
   "source": [
    "df.shape"
   ]
  },
  {
   "cell_type": "code",
   "execution_count": 16,
   "metadata": {},
   "outputs": [
    {
     "name": "stdout",
     "output_type": "stream",
     "text": [
      "['TOWN OF CARY / DT DECK P2 (2)' 'TOWN OF CARY / BOND PARK BH'\n",
      " 'TOWN OF CARY / TOWN HALL-PWH' 'TOWN OF CARY / DT DECK P2 (1)'\n",
      " 'TOWN OF CARY / DT DECK P3 WEST' 'TOWN OF CARY / DT DECK P4'\n",
      " 'TOWN OF CARY / DT DECK P5']\n",
      "[27511 27513]\n",
      "['CT4020-HD-GW' 'CT4025-HD-GW']\n"
     ]
    }
   ],
   "source": [
    "print(df[\"station_name\"].unique())\n",
    "print(df[\"zip_postal_code\"].unique())\n",
    "print(df[\"model_number\"].unique())"
   ]
  },
  {
   "cell_type": "code",
   "execution_count": 17,
   "metadata": {},
   "outputs": [
    {
     "data": {
      "text/plain": [
       "start_date                False\n",
       "station_name              False\n",
       "charging_time_hh_mm_ss    False\n",
       "energy_kwh                False\n",
       "zip_postal_code           False\n",
       "fee                       False\n",
       "model_number              False\n",
       "latitude                  False\n",
       "longitude                 False\n",
       "geopoint                  False\n",
       "dtype: bool"
      ]
     },
     "execution_count": 17,
     "metadata": {},
     "output_type": "execute_result"
    }
   ],
   "source": [
    "# Check missing values\n",
    "df.isnull().any()"
   ]
  },
  {
   "cell_type": "code",
   "execution_count": 18,
   "metadata": {},
   "outputs": [
    {
     "data": {
      "text/html": [
       "<div>\n",
       "<style scoped>\n",
       "    .dataframe tbody tr th:only-of-type {\n",
       "        vertical-align: middle;\n",
       "    }\n",
       "\n",
       "    .dataframe tbody tr th {\n",
       "        vertical-align: top;\n",
       "    }\n",
       "\n",
       "    .dataframe thead th {\n",
       "        text-align: right;\n",
       "    }\n",
       "</style>\n",
       "<table border=\"1\" class=\"dataframe\">\n",
       "  <thead>\n",
       "    <tr style=\"text-align: right;\">\n",
       "      <th></th>\n",
       "      <th>energy_kwh</th>\n",
       "      <th>zip_postal_code</th>\n",
       "      <th>fee</th>\n",
       "      <th>latitude</th>\n",
       "      <th>longitude</th>\n",
       "      <th>geopoint</th>\n",
       "    </tr>\n",
       "  </thead>\n",
       "  <tbody>\n",
       "    <tr>\n",
       "      <th>count</th>\n",
       "      <td>1025.000000</td>\n",
       "      <td>1025.000000</td>\n",
       "      <td>1025.0</td>\n",
       "      <td>1025.000000</td>\n",
       "      <td>1025.000000</td>\n",
       "      <td>1025.000000</td>\n",
       "    </tr>\n",
       "    <tr>\n",
       "      <th>mean</th>\n",
       "      <td>8.611493</td>\n",
       "      <td>27512.336585</td>\n",
       "      <td>0.0</td>\n",
       "      <td>35.784043</td>\n",
       "      <td>-78.801618</td>\n",
       "      <td>35.784043</td>\n",
       "    </tr>\n",
       "    <tr>\n",
       "      <th>std</th>\n",
       "      <td>10.169734</td>\n",
       "      <td>0.942113</td>\n",
       "      <td>0.0</td>\n",
       "      <td>0.003024</td>\n",
       "      <td>0.023145</td>\n",
       "      <td>0.003024</td>\n",
       "    </tr>\n",
       "    <tr>\n",
       "      <th>min</th>\n",
       "      <td>0.000000</td>\n",
       "      <td>27511.000000</td>\n",
       "      <td>0.0</td>\n",
       "      <td>35.781303</td>\n",
       "      <td>-78.825554</td>\n",
       "      <td>35.781303</td>\n",
       "    </tr>\n",
       "    <tr>\n",
       "      <th>25%</th>\n",
       "      <td>2.597000</td>\n",
       "      <td>27511.000000</td>\n",
       "      <td>0.0</td>\n",
       "      <td>35.781303</td>\n",
       "      <td>-78.825554</td>\n",
       "      <td>35.781303</td>\n",
       "    </tr>\n",
       "    <tr>\n",
       "      <th>50%</th>\n",
       "      <td>5.510000</td>\n",
       "      <td>27513.000000</td>\n",
       "      <td>0.0</td>\n",
       "      <td>35.783203</td>\n",
       "      <td>-78.779701</td>\n",
       "      <td>35.783203</td>\n",
       "    </tr>\n",
       "    <tr>\n",
       "      <th>75%</th>\n",
       "      <td>10.071000</td>\n",
       "      <td>27513.000000</td>\n",
       "      <td>0.0</td>\n",
       "      <td>35.785446</td>\n",
       "      <td>-78.779282</td>\n",
       "      <td>35.785446</td>\n",
       "    </tr>\n",
       "    <tr>\n",
       "      <th>max</th>\n",
       "      <td>72.626000</td>\n",
       "      <td>27513.000000</td>\n",
       "      <td>0.0</td>\n",
       "      <td>35.789215</td>\n",
       "      <td>-78.778816</td>\n",
       "      <td>35.789215</td>\n",
       "    </tr>\n",
       "  </tbody>\n",
       "</table>\n",
       "</div>"
      ],
      "text/plain": [
       "        energy_kwh  zip_postal_code     fee     latitude    longitude  \\\n",
       "count  1025.000000      1025.000000  1025.0  1025.000000  1025.000000   \n",
       "mean      8.611493     27512.336585     0.0    35.784043   -78.801618   \n",
       "std      10.169734         0.942113     0.0     0.003024     0.023145   \n",
       "min       0.000000     27511.000000     0.0    35.781303   -78.825554   \n",
       "25%       2.597000     27511.000000     0.0    35.781303   -78.825554   \n",
       "50%       5.510000     27513.000000     0.0    35.783203   -78.779701   \n",
       "75%      10.071000     27513.000000     0.0    35.785446   -78.779282   \n",
       "max      72.626000     27513.000000     0.0    35.789215   -78.778816   \n",
       "\n",
       "          geopoint  \n",
       "count  1025.000000  \n",
       "mean     35.784043  \n",
       "std       0.003024  \n",
       "min      35.781303  \n",
       "25%      35.781303  \n",
       "50%      35.783203  \n",
       "75%      35.785446  \n",
       "max      35.789215  "
      ]
     },
     "execution_count": 18,
     "metadata": {},
     "output_type": "execute_result"
    }
   ],
   "source": [
    "df.describe()"
   ]
  },
  {
   "cell_type": "code",
   "execution_count": 19,
   "metadata": {},
   "outputs": [
    {
     "name": "stdout",
     "output_type": "stream",
     "text": [
      "<class 'pandas.core.frame.DataFrame'>\n",
      "RangeIndex: 1025 entries, 0 to 1024\n",
      "Data columns (total 10 columns):\n",
      " #   Column                  Non-Null Count  Dtype  \n",
      "---  ------                  --------------  -----  \n",
      " 0   start_date              1025 non-null   object \n",
      " 1   station_name            1025 non-null   object \n",
      " 2   charging_time_hh_mm_ss  1025 non-null   object \n",
      " 3   energy_kwh              1025 non-null   float64\n",
      " 4   zip_postal_code         1025 non-null   int64  \n",
      " 5   fee                     1025 non-null   int64  \n",
      " 6   model_number            1025 non-null   object \n",
      " 7   latitude                1025 non-null   float64\n",
      " 8   longitude               1025 non-null   float64\n",
      " 9   geopoint                1025 non-null   float64\n",
      "dtypes: float64(4), int64(2), object(4)\n",
      "memory usage: 80.2+ KB\n"
     ]
    }
   ],
   "source": [
    "df.info()"
   ]
  },
  {
   "cell_type": "markdown",
   "metadata": {},
   "source": [
    "## Data Exploration"
   ]
  },
  {
   "cell_type": "markdown",
   "metadata": {},
   "source": [
    "### Charge Time"
   ]
  },
  {
   "cell_type": "code",
   "execution_count": 29,
   "metadata": {},
   "outputs": [
    {
     "data": {
      "text/html": [
       "<div>\n",
       "<style scoped>\n",
       "    .dataframe tbody tr th:only-of-type {\n",
       "        vertical-align: middle;\n",
       "    }\n",
       "\n",
       "    .dataframe tbody tr th {\n",
       "        vertical-align: top;\n",
       "    }\n",
       "\n",
       "    .dataframe thead th {\n",
       "        text-align: right;\n",
       "    }\n",
       "</style>\n",
       "<table border=\"1\" class=\"dataframe\">\n",
       "  <thead>\n",
       "    <tr style=\"text-align: right;\">\n",
       "      <th></th>\n",
       "      <th>start_date</th>\n",
       "      <th>station_name</th>\n",
       "      <th>charging_time_hh_mm_ss</th>\n",
       "      <th>energy_kwh</th>\n",
       "      <th>zip_postal_code</th>\n",
       "      <th>fee</th>\n",
       "      <th>model_number</th>\n",
       "      <th>latitude</th>\n",
       "      <th>longitude</th>\n",
       "      <th>geopoint</th>\n",
       "    </tr>\n",
       "  </thead>\n",
       "  <tbody>\n",
       "    <tr>\n",
       "      <th>0</th>\n",
       "      <td>2022-03-31T23:55:44+00:00</td>\n",
       "      <td>TOWN OF CARY / DT DECK P2 (2)</td>\n",
       "      <td>154.05</td>\n",
       "      <td>9.417</td>\n",
       "      <td>27511</td>\n",
       "      <td>0</td>\n",
       "      <td>CT4020-HD-GW</td>\n",
       "      <td>35.785385</td>\n",
       "      <td>-78.779701</td>\n",
       "      <td>35.785385</td>\n",
       "    </tr>\n",
       "    <tr>\n",
       "      <th>1</th>\n",
       "      <td>2022-03-30T22:31:38+00:00</td>\n",
       "      <td>TOWN OF CARY / DT DECK P2 (2)</td>\n",
       "      <td>83.55</td>\n",
       "      <td>8.708</td>\n",
       "      <td>27511</td>\n",
       "      <td>0</td>\n",
       "      <td>CT4020-HD-GW</td>\n",
       "      <td>35.785385</td>\n",
       "      <td>-78.779701</td>\n",
       "      <td>35.785385</td>\n",
       "    </tr>\n",
       "    <tr>\n",
       "      <th>2</th>\n",
       "      <td>2022-03-30T17:09:49+00:00</td>\n",
       "      <td>TOWN OF CARY / BOND PARK BH</td>\n",
       "      <td>73</td>\n",
       "      <td>4.394</td>\n",
       "      <td>27513</td>\n",
       "      <td>0</td>\n",
       "      <td>CT4020-HD-GW</td>\n",
       "      <td>35.781303</td>\n",
       "      <td>-78.825554</td>\n",
       "      <td>35.781303</td>\n",
       "    </tr>\n",
       "    <tr>\n",
       "      <th>3</th>\n",
       "      <td>2022-03-30T13:41:38+00:00</td>\n",
       "      <td>TOWN OF CARY / DT DECK P2 (2)</td>\n",
       "      <td>74.1167</td>\n",
       "      <td>6.926</td>\n",
       "      <td>27511</td>\n",
       "      <td>0</td>\n",
       "      <td>CT4020-HD-GW</td>\n",
       "      <td>35.785385</td>\n",
       "      <td>-78.779701</td>\n",
       "      <td>35.785385</td>\n",
       "    </tr>\n",
       "    <tr>\n",
       "      <th>4</th>\n",
       "      <td>2022-03-30T13:15:23+00:00</td>\n",
       "      <td>TOWN OF CARY / BOND PARK BH</td>\n",
       "      <td>31.1</td>\n",
       "      <td>1.725</td>\n",
       "      <td>27513</td>\n",
       "      <td>0</td>\n",
       "      <td>CT4020-HD-GW</td>\n",
       "      <td>35.781303</td>\n",
       "      <td>-78.825554</td>\n",
       "      <td>35.781303</td>\n",
       "    </tr>\n",
       "  </tbody>\n",
       "</table>\n",
       "</div>"
      ],
      "text/plain": [
       "                  start_date                   station_name  \\\n",
       "0  2022-03-31T23:55:44+00:00  TOWN OF CARY / DT DECK P2 (2)   \n",
       "1  2022-03-30T22:31:38+00:00  TOWN OF CARY / DT DECK P2 (2)   \n",
       "2  2022-03-30T17:09:49+00:00    TOWN OF CARY / BOND PARK BH   \n",
       "3  2022-03-30T13:41:38+00:00  TOWN OF CARY / DT DECK P2 (2)   \n",
       "4  2022-03-30T13:15:23+00:00    TOWN OF CARY / BOND PARK BH   \n",
       "\n",
       "  charging_time_hh_mm_ss  energy_kwh  zip_postal_code  fee  model_number  \\\n",
       "0                 154.05       9.417            27511    0  CT4020-HD-GW   \n",
       "1                  83.55       8.708            27511    0  CT4020-HD-GW   \n",
       "2                     73       4.394            27513    0  CT4020-HD-GW   \n",
       "3                74.1167       6.926            27511    0  CT4020-HD-GW   \n",
       "4                   31.1       1.725            27513    0  CT4020-HD-GW   \n",
       "\n",
       "    latitude  longitude   geopoint  \n",
       "0  35.785385 -78.779701  35.785385  \n",
       "1  35.785385 -78.779701  35.785385  \n",
       "2  35.781303 -78.825554  35.781303  \n",
       "3  35.785385 -78.779701  35.785385  \n",
       "4  35.781303 -78.825554  35.781303  "
      ]
     },
     "execution_count": 29,
     "metadata": {},
     "output_type": "execute_result"
    }
   ],
   "source": [
    "# Convert charging time into minutes\n",
    "df['charging_time_hh_mm_ss'] = pd.to_datetime(df['charging_time_hh_mm_ss'], format = \"%H:%M:%S\")\n",
    "\n",
    "for i in range(len(df)):\n",
    "    df['charging_time_hh_mm_ss'].iloc[i] = df['charging_time_hh_mm_ss'].iloc[i].hour*60\n",
    "    +df['charging_time_hh_mm_ss'].iloc[i].minute\n",
    "    +df['charging_time_hh_mm_ss'].iloc[i].second/60\n",
    "df.head()"
   ]
  },
  {
   "cell_type": "code",
   "execution_count": 30,
   "metadata": {},
   "outputs": [
    {
     "data": {
      "text/plain": [
       "<matplotlib.axes._subplots.AxesSubplot at 0x7fb6d9be5210>"
      ]
     },
     "execution_count": 30,
     "metadata": {},
     "output_type": "execute_result"
    },
    {
     "data": {
      "image/png": "[encoded data removed]",
      "text/plain": [
       "<Figure size 432x288 with 1 Axes>"
      ]
     },
     "metadata": {
      "needs_background": "light"
     },
     "output_type": "display_data"
    }
   ],
   "source": [
    "# Exploration on charge time as one of the research task\n",
    "sns.distplot(df[\"charging_time_hh_mm_ss\"])"
   ]
  },
  {
   "cell_type": "code",
   "execution_count": 43,
   "metadata": {},
   "outputs": [
    {
     "name": "stdout",
     "output_type": "stream",
     "text": [
      "0.0\n",
      "966.1166666666667\n",
      "100.87248780487792\n"
     ]
    }
   ],
   "source": [
    "print(df['charging_time_hh_mm_ss'].min())\n",
    "print(df['charging_time_hh_mm_ss'].max())\n",
    "print(df['charging_time_hh_mm_ss'].mean())"
   ]
  },
  {
   "cell_type": "markdown",
   "metadata": {},
   "source": [
    "##### The distribution of Charge time is right skewed with a minimum charge time less than 1 minute, and the maximum is around 16 hours and 6 minutes. We can initially identify the average charging time is around 101 minutes."
   ]
  },
  {
   "cell_type": "markdown",
   "metadata": {},
   "source": [
    "### Total Energy"
   ]
  },
  {
   "cell_type": "code",
   "execution_count": 46,
   "metadata": {},
   "outputs": [
    {
     "data": {
      "text/plain": [
       "<matplotlib.axes._subplots.AxesSubplot at 0x7fb6d954d090>"
      ]
     },
     "execution_count": 46,
     "metadata": {},
     "output_type": "execute_result"
    },
    {
     "data": {
      "image/png": "[encoded data removed]",
      "text/plain": [
       "<Figure size 432x288 with 1 Axes>"
      ]
     },
     "metadata": {
      "needs_background": "light"
     },
     "output_type": "display_data"
    }
   ],
   "source": [
    "# Histogram of Total Energy consumed\n",
    "sns.distplot(df[\"energy_kwh\"])"
   ]
  },
  {
   "cell_type": "code",
   "execution_count": 47,
   "metadata": {},
   "outputs": [
    {
     "data": {
      "text/plain": [
       "count    1025.000000\n",
       "mean        8.611493\n",
       "std        10.169734\n",
       "min         0.000000\n",
       "25%         2.597000\n",
       "50%         5.510000\n",
       "75%        10.071000\n",
       "max        72.626000\n",
       "Name: energy_kwh, dtype: float64"
      ]
     },
     "execution_count": 47,
     "metadata": {},
     "output_type": "execute_result"
    }
   ],
   "source": [
    "df[\"energy_kwh\"].describe()"
   ]
  },
  {
   "cell_type": "markdown",
   "metadata": {},
   "source": [
    "##### Total Energy, as our target predicting variable, presents a right skewed pattern on histogram. Minimum energy consumption was almost 0 kWh, while maximum was about 72.62 kWh. Average consumption was 8.61 kWh."
   ]
  },
  {
   "cell_type": "markdown",
   "metadata": {},
   "source": [
    "#### Best Fitted Distribution (Optional)"
   ]
  },
  {
   "cell_type": "code",
   "execution_count": 48,
   "metadata": {},
   "outputs": [
    {
     "name": "stderr",
     "output_type": "stream",
     "text": [
      "WARNING:root:SKIPPED kstwo distribution (taking more than 30 seconds)\n",
      "WARNING:root:SKIPPED ksone distribution (taking more than 30 seconds)\n",
      "WARNING:root:SKIPPED levy_stable distribution (taking more than 30 seconds)\n",
      "WARNING:root:SKIPPED ncf distribution (taking more than 30 seconds)\n",
      "WARNING:root:SKIPPED nct distribution (taking more than 30 seconds)\n",
      "WARNING:root:SKIPPED ncx2 distribution (taking more than 30 seconds)\n",
      "WARNING:root:SKIPPED rv_continuous distribution (taking more than 30 seconds)\n",
      "WARNING:root:SKIPPED rv_histogram distribution (taking more than 30 seconds)\n"
     ]
    },
    {
     "data": {
      "text/html": [
       "<div>\n",
       "<style scoped>\n",
       "    .dataframe tbody tr th:only-of-type {\n",
       "        vertical-align: middle;\n",
       "    }\n",
       "\n",
       "    .dataframe tbody tr th {\n",
       "        vertical-align: top;\n",
       "    }\n",
       "\n",
       "    .dataframe thead th {\n",
       "        text-align: right;\n",
       "    }\n",
       "</style>\n",
       "<table border=\"1\" class=\"dataframe\">\n",
       "  <thead>\n",
       "    <tr style=\"text-align: right;\">\n",
       "      <th></th>\n",
       "      <th>sumsquare_error</th>\n",
       "      <th>aic</th>\n",
       "      <th>bic</th>\n",
       "      <th>kl_div</th>\n",
       "    </tr>\n",
       "  </thead>\n",
       "  <tbody>\n",
       "    <tr>\n",
       "      <th>gompertz</th>\n",
       "      <td>0.008249</td>\n",
       "      <td>1312.490601</td>\n",
       "      <td>-12002.616169</td>\n",
       "      <td>inf</td>\n",
       "    </tr>\n",
       "    <tr>\n",
       "      <th>exponnorm</th>\n",
       "      <td>0.008359</td>\n",
       "      <td>1284.168936</td>\n",
       "      <td>-11988.981619</td>\n",
       "      <td>inf</td>\n",
       "    </tr>\n",
       "    <tr>\n",
       "      <th>expon</th>\n",
       "      <td>0.008383</td>\n",
       "      <td>1277.980873</td>\n",
       "      <td>-11993.008811</td>\n",
       "      <td>inf</td>\n",
       "    </tr>\n",
       "    <tr>\n",
       "      <th>genexpon</th>\n",
       "      <td>0.008384</td>\n",
       "      <td>1283.772752</td>\n",
       "      <td>-11972.018306</td>\n",
       "      <td>inf</td>\n",
       "    </tr>\n",
       "    <tr>\n",
       "      <th>johnsonsu</th>\n",
       "      <td>0.008416</td>\n",
       "      <td>1201.973216</td>\n",
       "      <td>-11975.083724</td>\n",
       "      <td>inf</td>\n",
       "    </tr>\n",
       "  </tbody>\n",
       "</table>\n",
       "</div>"
      ],
      "text/plain": [
       "           sumsquare_error          aic           bic  kl_div\n",
       "gompertz          0.008249  1312.490601 -12002.616169     inf\n",
       "exponnorm         0.008359  1284.168936 -11988.981619     inf\n",
       "expon             0.008383  1277.980873 -11993.008811     inf\n",
       "genexpon          0.008384  1283.772752 -11972.018306     inf\n",
       "johnsonsu         0.008416  1201.973216 -11975.083724     inf"
      ]
     },
     "execution_count": 48,
     "metadata": {},
     "output_type": "execute_result"
    },
    {
     "data": {
      "image/png": "[encoded data removed]",
      "text/plain": [
       "<Figure size 432x288 with 1 Axes>"
      ]
     },
     "metadata": {
      "needs_background": "light"
     },
     "output_type": "display_data"
    }
   ],
   "source": [
    "## Best fitted distribution - OPtional\n",
    "f_totalenergy = Fitter(df[\"energy_kwh\"])\n",
    "f_totalenergy.fit() \n",
    "f_totalenergy.summary()"
   ]
  },
  {
   "cell_type": "code",
   "execution_count": 49,
   "metadata": {},
   "outputs": [
    {
     "data": {
      "text/plain": [
       "{'gompertz': {'c': 2573446216788.067,\n",
       "  'loc': -9.346080875003137e-14,\n",
       "  'scale': 21102848547398.477}}"
      ]
     },
     "execution_count": 49,
     "metadata": {},
     "output_type": "execute_result"
    }
   ],
   "source": [
    "f_totalenergy.get_best(method='sumsquare_error')"
   ]
  },
  {
   "cell_type": "code",
   "execution_count": 50,
   "metadata": {},
   "outputs": [
    {
     "data": {
      "image/png": "[encoded data removed]",
      "text/plain": [
       "<Figure size 432x288 with 1 Axes>"
      ]
     },
     "metadata": {
      "needs_background": "light"
     },
     "output_type": "display_data"
    }
   ],
   "source": [
    "f_totalenergy.plot_pdf(names=None, Nbest=2, lw=2) "
   ]
  },
  {
   "cell_type": "markdown",
   "metadata": {},
   "source": [
    "#### Fit Exponnorm Distribution"
   ]
  },
  {
   "cell_type": "code",
   "execution_count": 51,
   "metadata": {},
   "outputs": [
    {
     "data": {
      "text/plain": [
       "Text(0.5, 1.0, 'Exponnorm probability plot of energy_kwh')"
      ]
     },
     "execution_count": 51,
     "metadata": {},
     "output_type": "execute_result"
    },
    {
     "data": {
      "image/png": "[encoded data removed]",
      "text/plain": [
       "<Figure size 432x288 with 1 Axes>"
      ]
     },
     "metadata": {
      "needs_background": "light"
     },
     "output_type": "display_data"
    },
    {
     "data": {
      "image/png": "[encoded data removed]",
      "text/plain": [
       "<Figure size 432x288 with 1 Axes>"
      ]
     },
     "metadata": {
      "needs_background": "light"
     },
     "output_type": "display_data"
    }
   ],
   "source": [
    "# Lognormal Distribution\n",
    "shape,loc,scale=scipy.stats.exponnorm.fit(df[\"energy_kwh\"]) \n",
    "fitted=scipy.stats.exponnorm(shape,loc,scale) \n",
    "plt.hist(df[\"energy_kwh\"],bins=100,density=True,alpha=0.5) \n",
    "x=np.linspace(df[\"energy_kwh\"].min(),df[\"energy_kwh\"].max(),100) \n",
    "plt.plot(x,fitted.pdf(x)) \n",
    "plt.title(\"Exponnorm fit on energy_kwh\") \n",
    "plt.xlabel(\"energy_kwh\") \n",
    "scipy.stats.probplot(df[\"energy_kwh\"],dist=fitted, plot=plt.figure().add_subplot(111)) \n",
    "plt.title(\"Exponnorm probability plot of energy_kwh\")"
   ]
  },
  {
   "cell_type": "code",
   "execution_count": 54,
   "metadata": {},
   "outputs": [
    {
     "data": {
      "text/plain": [
       "<matplotlib.legend.Legend at 0x7fb6dab11810>"
      ]
     },
     "execution_count": 54,
     "metadata": {},
     "output_type": "execute_result"
    },
    {
     "data": {
      "image/png": "[encoded data removed]",
      "text/plain": [
       "<Figure size 432x288 with 1 Axes>"
      ]
     },
     "metadata": {
      "needs_background": "light"
     },
     "output_type": "display_data"
    }
   ],
   "source": [
    "import statsmodels.distributions \n",
    "ecdf=statsmodels.distributions.ECDF(df[\"energy_kwh\"]) \n",
    "plt.plot(x,ecdf(x),label=\"energy_kwhCDF\") \n",
    "plt.plot(x,scipy.stats.exponnorm(shape,loc,scale).cdf(x), label=\"Exponnormfit\")\n",
    "plt.title(\"energy_kwh CDF\") \n",
    "plt.xlabel(\"energy_kwh\") \n",
    "plt.legend()"
   ]
  },
  {
   "cell_type": "markdown",
   "metadata": {},
   "source": [
    "### Relationship Exploration Between All Attributes"
   ]
  },
  {
   "cell_type": "markdown",
   "metadata": {},
   "source": [
    "#### Relationship between Charge Time and Total Energy¶"
   ]
  },
  {
   "cell_type": "code",
   "execution_count": 55,
   "metadata": {},
   "outputs": [
    {
     "data": {
      "image/png": "[encoded data removed]",
      "text/plain": [
       "<Figure size 576x576 with 1 Axes>"
      ]
     },
     "metadata": {
      "needs_background": "light"
     },
     "output_type": "display_data"
    }
   ],
   "source": [
    "# Create figure and plot space\n",
    "fig, ax = plt.subplots(figsize=(8, 8))\n",
    "\n",
    "# Add x-axis and y-axis\n",
    "ax.scatter(df['charging_time_hh_mm_ss'].values,\n",
    "           df['energy_kwh'],\n",
    "           color='green')\n",
    "\n",
    "# Set title and labels for axes\n",
    "ax.set(xlabel=\"charging_time_hh_mm_ss\",\n",
    "       ylabel=\"energy_kwh\",\n",
    "       title=\"charging_time-energy_kwh\")\n",
    "\n",
    "plt.show()"
   ]
  },
  {
   "cell_type": "markdown",
   "metadata": {},
   "source": [
    "##### It is obvious that relationships between Charge Time and Total Energy are linears."
   ]
  }
 ],
 "metadata": {
  "kernelspec": {
   "display_name": "Python 3",
   "language": "python",
   "name": "python3"
  },
  "language_info": {
   "codemirror_mode": {
    "name": "ipython",
    "version": 3
   },
   "file_extension": ".py",
   "mimetype": "text/x-python",
   "name": "python",
   "nbconvert_exporter": "python",
   "pygments_lexer": "ipython3",
   "version": "3.7.4"
  }
 },
 "nbformat": 4,
 "nbformat_minor": 2
}
