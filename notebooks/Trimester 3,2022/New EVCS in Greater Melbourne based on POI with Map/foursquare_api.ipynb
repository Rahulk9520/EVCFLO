{
 "cells": [
  {
   "cell_type": "code",
   "execution_count": 48,
   "id": "8e0e989e-918f-417e-9588-813b691af406",
   "metadata": {},
   "outputs": [],
   "source": [
    "import pandas as pd\n",
    "import numpy as np\n",
    "import requests \n",
    "import random \n",
    "from pandas.io.json import json_normalize"
   ]
  },
  {
   "cell_type": "markdown",
   "id": "5d659167-0f61-4d68-a23a-55799dacf817",
   "metadata": {},
   "source": [
    "#### Point of interests in this study are shopping malls, sport and recreation venues and travel related venues such as hotels etc. The seach also covers only Greater Melbourne.\n",
    "\n",
    "Note: Due to Foursquare Place search API would return only maximum 50 records. Therefore, in order to cover the results from all Greater Melbourne, the search has been performed against different smaller area around Greater Melbourne to which the results were combined in the end."
   ]
  },
  {
   "cell_type": "markdown",
   "id": "b4c007fc-6ca4-4703-bff1-ba190ca5c072",
   "metadata": {},
   "source": [
    "#### Get locations of the shopping mall within 40km radius from Melbourne"
   ]
  },
  {
   "cell_type": "code",
   "execution_count": 108,
   "id": "2da06b3c-bdba-4169-a343-00c47bcd2829",
   "metadata": {},
   "outputs": [],
   "source": [
    "#Get shopping mall 40km from Melbourne\n",
    "# Replace \"API_KEY\" with your personal API_KEY from Foursquare Places.\n",
    "url = \"https://api.foursquare.com/v3/places/search?ll=-37.8136%2C144.9631&radius=40000&query='mall'&limit=50&fields=name%2Cgeocodes%2Clocation\"\n",
    "\n",
    "headers = {\n",
    "    \"accept\": \"application/json\",\n",
    "    \"Authorization\": API_KEY\n",
    "}\n",
    "results = requests.get(url, headers=headers).json()\n",
    "shop1 = results['results']\n",
    "shop_df1 = pd.json_normalize(shop1)"
   ]
  },
  {
   "cell_type": "markdown",
   "id": "d297bd52-249f-43b9-bc80-0699b0ae3a6b",
   "metadata": {},
   "source": [
    "#### Get locations of the shopping mall within 40km radius from Wydham Vale"
   ]
  },
  {
   "cell_type": "code",
   "execution_count": null,
   "id": "3d65ed89-ec0c-4c68-b061-ba2fbea93656",
   "metadata": {},
   "outputs": [],
   "source": [
    "#Get shopping mall 40km from Wydham Vale (West side)\n",
    "url = \"https://api.foursquare.com/v3/places/search?ll=-37.8893%2C144.6213&radius=40000&query='mall'&limit=50&fields=name%2Cgeocodes%2Clocation\"\n",
    "\n",
    "headers = {\n",
    "    \"accept\": \"application/json\",\n",
    "    \"Authorization\": API_KEY\n",
    "}\n",
    "\n",
    "results = requests.get(url, headers=headers).json()\n",
    "shop2 = results['results']\n",
    "shop_df2 = pd.json_normalize(shop2)"
   ]
  },
  {
   "cell_type": "markdown",
   "id": "b7e0548b-b5c7-4b72-af96-162d3cfdd9ee",
   "metadata": {},
   "source": [
    "#### Get locations of the shopping mall within 30km radius from Lilydale"
   ]
  },
  {
   "cell_type": "code",
   "execution_count": 112,
   "id": "aede763a-b5d9-427c-9302-7897af4d6cd2",
   "metadata": {},
   "outputs": [],
   "source": [
    "#Get shopping mall 30km from Lilydale\n",
    "url = \"https://api.foursquare.com/v3/places/search?ll=-37.7570%2C145.3550&radius=30000&query='mall'&limit=50&fields=name%2Cgeocodes%2Clocation\"\n",
    "\n",
    "headers = {\n",
    "    \"accept\": \"application/json\",\n",
    "    \"Authorization\": API_KEY\n",
    "}\n",
    "results = requests.get(url, headers=headers).json()\n",
    "shop3 = results['results']\n",
    "shop_df3 = pd.json_normalize(shop3)"
   ]
  },
  {
   "cell_type": "markdown",
   "id": "5608d955-1ade-4664-b47f-fb33dc84cbea",
   "metadata": {},
   "source": [
    "#### Get locations of the shopping mall within 40km radius from Mornington"
   ]
  },
  {
   "cell_type": "code",
   "execution_count": 113,
   "id": "f434741c-9f36-49d5-b47a-74e09453096f",
   "metadata": {},
   "outputs": [],
   "source": [
    "#Get charging station 40km from Mornington\n",
    "url = \"https://api.foursquare.com/v3/places/search?ll=-38.2288%2C145.0600&radius=40000&&query='mall'&limit=50&fields=name%2Cgeocodes%2Clocation\"\n",
    "\n",
    "headers = {\n",
    "    \"accept\": \"application/json\",\n",
    "    \"Authorization\": API_KEY\n",
    "}\n",
    "\n",
    "results = requests.get(url, headers=headers).json()\n",
    "shop4 = results['results']\n",
    "shop_df4 = pd.json_normalize(shop4)"
   ]
  },
  {
   "cell_type": "markdown",
   "id": "289613a7-9afa-425b-bc1d-7a042c3b9d1f",
   "metadata": {},
   "source": [
    "#### Combine all the results together "
   ]
  },
  {
   "cell_type": "code",
   "execution_count": 123,
   "id": "2a83b829-7158-4382-b720-38948a977b93",
   "metadata": {},
   "outputs": [
    {
     "data": {
      "text/html": [
       "<div>\n",
       "<style scoped>\n",
       "    .dataframe tbody tr th:only-of-type {\n",
       "        vertical-align: middle;\n",
       "    }\n",
       "\n",
       "    .dataframe tbody tr th {\n",
       "        vertical-align: top;\n",
       "    }\n",
       "\n",
       "    .dataframe thead th {\n",
       "        text-align: right;\n",
       "    }\n",
       "</style>\n",
       "<table border=\"1\" class=\"dataframe\">\n",
       "  <thead>\n",
       "    <tr style=\"text-align: right;\">\n",
       "      <th></th>\n",
       "      <th>name</th>\n",
       "      <th>latitude</th>\n",
       "      <th>longitude</th>\n",
       "      <th>address</th>\n",
       "    </tr>\n",
       "  </thead>\n",
       "  <tbody>\n",
       "    <tr>\n",
       "      <th>0</th>\n",
       "      <td>Emporium Melbourne</td>\n",
       "      <td>-37.812214</td>\n",
       "      <td>144.963785</td>\n",
       "      <td>287 Lonsdale St, Melbourne VIC 3000</td>\n",
       "    </tr>\n",
       "    <tr>\n",
       "      <th>1</th>\n",
       "      <td>Royal Arcade</td>\n",
       "      <td>-37.814368</td>\n",
       "      <td>144.964103</td>\n",
       "      <td>335 Bourke St, Melbourne VIC 3000</td>\n",
       "    </tr>\n",
       "    <tr>\n",
       "      <th>2</th>\n",
       "      <td>The Clarendon Centre</td>\n",
       "      <td>-37.832392</td>\n",
       "      <td>144.960793</td>\n",
       "      <td>261 Clarendon St, South Melbourne VIC 3205</td>\n",
       "    </tr>\n",
       "    <tr>\n",
       "      <th>3</th>\n",
       "      <td>Melbourne Central</td>\n",
       "      <td>-37.810421</td>\n",
       "      <td>144.962962</td>\n",
       "      <td>211 La Trobe St, Melbourne VIC 3000</td>\n",
       "    </tr>\n",
       "    <tr>\n",
       "      <th>4</th>\n",
       "      <td>Homeplus+ Homemaker Centre</td>\n",
       "      <td>-37.877474</td>\n",
       "      <td>145.092644</td>\n",
       "      <td>675-685 Warrigal Rd, Chadstone VIC 3148</td>\n",
       "    </tr>\n",
       "  </tbody>\n",
       "</table>\n",
       "</div>"
      ],
      "text/plain": [
       "                         name   latitude   longitude  \\\n",
       "0          Emporium Melbourne -37.812214  144.963785   \n",
       "1                Royal Arcade -37.814368  144.964103   \n",
       "2        The Clarendon Centre -37.832392  144.960793   \n",
       "3           Melbourne Central -37.810421  144.962962   \n",
       "4  Homeplus+ Homemaker Centre -37.877474  145.092644   \n",
       "\n",
       "                                      address  \n",
       "0         287 Lonsdale St, Melbourne VIC 3000  \n",
       "1           335 Bourke St, Melbourne VIC 3000  \n",
       "2  261 Clarendon St, South Melbourne VIC 3205  \n",
       "3         211 La Trobe St, Melbourne VIC 3000  \n",
       "4     675-685 Warrigal Rd, Chadstone VIC 3148  "
      ]
     },
     "execution_count": 123,
     "metadata": {},
     "output_type": "execute_result"
    }
   ],
   "source": [
    "shop_df1 = shop_df1[['name', 'geocodes.main.latitude', 'geocodes.main.longitude','location.formatted_address']]\n",
    "shop_df2 = shop_df2[['name', 'geocodes.main.latitude', 'geocodes.main.longitude','location.formatted_address']]\n",
    "shop_df3 = shop_df3[['name', 'geocodes.main.latitude', 'geocodes.main.longitude','location.formatted_address']]\n",
    "shop_df4 = shop_df4[['name', 'geocodes.main.latitude', 'geocodes.main.longitude','location.formatted_address']]\n",
    "shop_mel = pd.concat([shop_df1, shop_df2,shop_df3,shop_df4], ignore_index=True)\n",
    "shop_mel.rename(columns={'geocodes.main.latitude':'latitude','geocodes.main.longitude':'longitude','location.formatted_address':'address'}, \n",
    "                 inplace=True)\n",
    "shop_mel.head()"
   ]
  },
  {
   "cell_type": "markdown",
   "id": "78718784-6cf9-49c7-a956-d9a4a76129a4",
   "metadata": {},
   "source": [
    "#### Drop the duplicated results that are returned from the overlapped area and export the dataframe to csv file."
   ]
  },
  {
   "cell_type": "code",
   "execution_count": 124,
   "id": "744c792a-2bb8-4076-a7ee-29ab8cdb604b",
   "metadata": {},
   "outputs": [],
   "source": [
    "shop_mel.drop_duplicates(keep='first',inplace=True)\n",
    "shop_mel.to_csv('shop_mel_drop.csv',index=False)"
   ]
  },
  {
   "cell_type": "markdown",
   "id": "c344543a-486d-4a41-bdf6-a7f0a409d939",
   "metadata": {},
   "source": [
    "#### Repeat the same steps above to get the poi for sport and recreation venues such as stadium etc. but sorting by popularity and limiting only 20 results returned"
   ]
  },
  {
   "cell_type": "code",
   "execution_count": 174,
   "id": "82c46778-c1fd-4341-8f0b-aecd1fc0ea9e",
   "metadata": {},
   "outputs": [],
   "source": [
    "#Get sport recreation 40km from Melbourne\n",
    "url = \"https://api.foursquare.com/v3/places/search?ll=-37.8136%2C144.9631&radius=40000&categories=18000&limit=20&sort=POPULARITY&fields=name%2Cgeocodes%2Clocation\"\n",
    "\n",
    "headers = {\n",
    "    \"accept\": \"application/json\",\n",
    "    \"Authorization\": API_KEY\n",
    "}\n",
    "results = requests.get(url, headers=headers).json()\n",
    "sport1 = results['results']\n",
    "sport_df1 = pd.json_normalize(sport1)"
   ]
  },
  {
   "cell_type": "code",
   "execution_count": 176,
   "id": "37d741d2-5972-473c-9b6e-7f041ec1dd95",
   "metadata": {},
   "outputs": [],
   "source": [
    "#Get sport recreation 40km from Wydham Vale (West side)\n",
    "url = \"https://api.foursquare.com/v3/places/search?ll=-37.8893%2C144.6213&radius=40000&sort=POPULARITY&categories=18000&limit=20&fields=name%2Cgeocodes%2Clocation\"\n",
    "\n",
    "headers = {\n",
    "    \"accept\": \"application/json\",\n",
    "    \"Authorization\": API_KEY\n",
    "}\n",
    "\n",
    "results = requests.get(url, headers=headers).json()\n",
    "sport2 = results['results']\n",
    "sport_df2 = pd.json_normalize(sport2)"
   ]
  },
  {
   "cell_type": "code",
   "execution_count": 177,
   "id": "b5dbb7d6-8e56-47fa-9451-c3c9f735ff9c",
   "metadata": {},
   "outputs": [],
   "source": [
    "#Get sport recreation mall 30km from Lilydale\n",
    "url = \"https://api.foursquare.com/v3/places/search?ll=-37.7570%2C145.3550&radius=30000&categories=18000&sort=POPULARITY&limit=20&fields=name%2Cgeocodes%2Clocation\"\n",
    "\n",
    "headers = {\n",
    "    \"accept\": \"application/json\",\n",
    "    \"Authorization\": API_KEY\n",
    "}\n",
    "results = requests.get(url, headers=headers).json()\n",
    "sport3 = results['results']\n",
    "sport_df3 = pd.json_normalize(sport3)"
   ]
  },
  {
   "cell_type": "code",
   "execution_count": 178,
   "id": "70a86baf-4a3a-43f3-a592-2e86c0af6b7e",
   "metadata": {},
   "outputs": [],
   "source": [
    "#Get attractions 40km from Mornington\n",
    "url = \"https://api.foursquare.com/v3/places/search?ll=-38.2288%2C145.0600&radius=40000&categories=18000&sort=POPULARITY&limit=20&fields=name%2Cgeocodes%2Clocation\"\n",
    "\n",
    "headers = {\n",
    "    \"accept\": \"application/json\",\n",
    "    \"Authorization\": API_KEY\n",
    "}\n",
    "\n",
    "results = requests.get(url, headers=headers).json()\n",
    "sport4 = results['results']\n",
    "sport_df4 = pd.json_normalize(sport4)"
   ]
  },
  {
   "cell_type": "code",
   "execution_count": 179,
   "id": "2027256d-b7e3-454a-b607-e3a8a7e42675",
   "metadata": {},
   "outputs": [
    {
     "data": {
      "text/html": [
       "<div>\n",
       "<style scoped>\n",
       "    .dataframe tbody tr th:only-of-type {\n",
       "        vertical-align: middle;\n",
       "    }\n",
       "\n",
       "    .dataframe tbody tr th {\n",
       "        vertical-align: top;\n",
       "    }\n",
       "\n",
       "    .dataframe thead th {\n",
       "        text-align: right;\n",
       "    }\n",
       "</style>\n",
       "<table border=\"1\" class=\"dataframe\">\n",
       "  <thead>\n",
       "    <tr style=\"text-align: right;\">\n",
       "      <th></th>\n",
       "      <th>name</th>\n",
       "      <th>latitude</th>\n",
       "      <th>longitude</th>\n",
       "      <th>address</th>\n",
       "    </tr>\n",
       "  </thead>\n",
       "  <tbody>\n",
       "    <tr>\n",
       "      <th>0</th>\n",
       "      <td>Melbourne Cricket Ground (MCG)</td>\n",
       "      <td>-37.819876</td>\n",
       "      <td>144.983414</td>\n",
       "      <td>Brunton Ave, Melbourne VIC 3002</td>\n",
       "    </tr>\n",
       "    <tr>\n",
       "      <th>1</th>\n",
       "      <td>Fitness First Flinders Street</td>\n",
       "      <td>-37.817785</td>\n",
       "      <td>144.965099</td>\n",
       "      <td>276 Flinders St, Melbourne VIC 3000</td>\n",
       "    </tr>\n",
       "    <tr>\n",
       "      <th>2</th>\n",
       "      <td>Flemington Racecourse</td>\n",
       "      <td>-37.787776</td>\n",
       "      <td>144.909992</td>\n",
       "      <td>400 Epsom Rd, Flemington VIC 3031</td>\n",
       "    </tr>\n",
       "    <tr>\n",
       "      <th>3</th>\n",
       "      <td>Fitness First Platinum</td>\n",
       "      <td>-37.810466</td>\n",
       "      <td>144.963103</td>\n",
       "      <td>La Trobe St, Melbourne VIC</td>\n",
       "    </tr>\n",
       "    <tr>\n",
       "      <th>4</th>\n",
       "      <td>Ashburton Pool &amp; Recreation Centre</td>\n",
       "      <td>-37.866695</td>\n",
       "      <td>145.085251</td>\n",
       "      <td>8 Warner Ave, Ashburton VIC 3147</td>\n",
       "    </tr>\n",
       "  </tbody>\n",
       "</table>\n",
       "</div>"
      ],
      "text/plain": [
       "                                 name   latitude   longitude  \\\n",
       "0      Melbourne Cricket Ground (MCG) -37.819876  144.983414   \n",
       "1       Fitness First Flinders Street -37.817785  144.965099   \n",
       "2               Flemington Racecourse -37.787776  144.909992   \n",
       "3              Fitness First Platinum -37.810466  144.963103   \n",
       "4  Ashburton Pool & Recreation Centre -37.866695  145.085251   \n",
       "\n",
       "                               address  \n",
       "0      Brunton Ave, Melbourne VIC 3002  \n",
       "1  276 Flinders St, Melbourne VIC 3000  \n",
       "2    400 Epsom Rd, Flemington VIC 3031  \n",
       "3           La Trobe St, Melbourne VIC  \n",
       "4     8 Warner Ave, Ashburton VIC 3147  "
      ]
     },
     "execution_count": 179,
     "metadata": {},
     "output_type": "execute_result"
    }
   ],
   "source": [
    "sport_df1 = sport_df1[['name', 'geocodes.main.latitude', 'geocodes.main.longitude','location.formatted_address']]\n",
    "sport_df2 = sport_df2[['name', 'geocodes.main.latitude', 'geocodes.main.longitude','location.formatted_address']]\n",
    "sport_df3 = sport_df3[['name', 'geocodes.main.latitude', 'geocodes.main.longitude','location.formatted_address']]\n",
    "sport_df4 = sport_df4[['name', 'geocodes.main.latitude', 'geocodes.main.longitude','location.formatted_address']]\n",
    "sport_mel = pd.concat([sport_df1, sport_df2,sport_df3,sport_df4], ignore_index=True)\n",
    "sport_mel.rename(columns={'geocodes.main.latitude':'latitude','geocodes.main.longitude':'longitude','location.formatted_address':'address'}, \n",
    "                 inplace=True)\n",
    "sport_mel.head()"
   ]
  },
  {
   "cell_type": "code",
   "execution_count": 180,
   "id": "75415ace-0c3e-4be7-8f61-195dfd184c38",
   "metadata": {},
   "outputs": [],
   "source": [
    "sport_mel.drop_duplicates(keep='first',inplace=True)\n",
    "sport_mel.to_csv('sport_mel_drop.csv',index=False)"
   ]
  },
  {
   "cell_type": "markdown",
   "id": "80a65404-4fb5-485b-86da-5bcffbbd9983",
   "metadata": {},
   "source": [
    "#### Get the poi for venues related to travelling such as airports, hotels etc. and sorting by popularity."
   ]
  },
  {
   "cell_type": "code",
   "execution_count": 188,
   "id": "afb96d81-8a23-45a9-aded-ca4ea28c7229",
   "metadata": {},
   "outputs": [],
   "source": [
    "#Get airport and hotel and  40km from Melbourne\n",
    "url = \"https://api.foursquare.com/v3/places/search?ll=-37.8136%2C144.9631&radius=40000&categories=19031%2C19014&limit=50&sort=POPULARITY&fields=name%2Cgeocodes%2Clocation\"\n",
    "\n",
    "headers = {\n",
    "    \"accept\": \"application/json\",\n",
    "    \"Authorization\": API_KEY\n",
    "}\n",
    "results = requests.get(url, headers=headers).json()\n",
    "travel1 = results['results']\n",
    "travel_df1 = pd.json_normalize(travel1)"
   ]
  },
  {
   "cell_type": "code",
   "execution_count": 189,
   "id": "bb7ef1fa-7eec-437e-ab96-cea35e7ea570",
   "metadata": {},
   "outputs": [],
   "source": [
    "#Get airport and hotel 40km from Wydham Vale (West side)\n",
    "url = \"https://api.foursquare.com/v3/places/search?ll=-37.8893%2C144.6213&radius=40000&sort=POPULARITY&categories=19031%2C19014&limit=50&fields=name%2Cgeocodes%2Clocation\"\n",
    "\n",
    "headers = {\n",
    "    \"accept\": \"application/json\",\n",
    "    \"Authorization\": API_KEY\n",
    "}\n",
    "\n",
    "results = requests.get(url, headers=headers).json()\n",
    "travel2 = results['results']\n",
    "travel_df2 = pd.json_normalize(travel2)"
   ]
  },
  {
   "cell_type": "code",
   "execution_count": 190,
   "id": "ead96b79-fc7b-46da-924f-de290c129e14",
   "metadata": {},
   "outputs": [],
   "source": [
    "#Get sport recreation mall 30km from Lilydale\n",
    "url = \"https://api.foursquare.com/v3/places/search?ll=-37.7570%2C145.3550&radius=30000&categories=19031%2C19014&sort=POPULARITY&limit=50&fields=name%2Cgeocodes%2Clocation\"\n",
    "\n",
    "headers = {\n",
    "    \"accept\": \"application/json\",\n",
    "    \"Authorization\": API_KEY\n",
    "}\n",
    "results = requests.get(url, headers=headers).json()\n",
    "travel3 = results['results']\n",
    "travel_df3 = pd.json_normalize(travel3)"
   ]
  },
  {
   "cell_type": "code",
   "execution_count": 191,
   "id": "c74ea195-9a3c-4373-a761-09d2def3ff48",
   "metadata": {},
   "outputs": [],
   "source": [
    "#Get sport recreation 40km from Mornington\n",
    "url = \"https://api.foursquare.com/v3/places/search?ll=-38.2288%2C145.0600&radius=40000&categories=19031%2C19014&sort=POPULARITY&limit=50&fields=name%2Cgeocodes%2Clocation\"\n",
    "\n",
    "headers = {\n",
    "    \"accept\": \"application/json\",\n",
    "    \"Authorization\": API_KEY\n",
    "}\n",
    "\n",
    "results = requests.get(url, headers=headers).json()\n",
    "travel4 = results['results']\n",
    "travel_df4 = pd.json_normalize(travel4)"
   ]
  },
  {
   "cell_type": "code",
   "execution_count": 192,
   "id": "283c5344-f722-4d5b-930c-9d2876ffbdb0",
   "metadata": {},
   "outputs": [
    {
     "data": {
      "text/html": [
       "<div>\n",
       "<style scoped>\n",
       "    .dataframe tbody tr th:only-of-type {\n",
       "        vertical-align: middle;\n",
       "    }\n",
       "\n",
       "    .dataframe tbody tr th {\n",
       "        vertical-align: top;\n",
       "    }\n",
       "\n",
       "    .dataframe thead th {\n",
       "        text-align: right;\n",
       "    }\n",
       "</style>\n",
       "<table border=\"1\" class=\"dataframe\">\n",
       "  <thead>\n",
       "    <tr style=\"text-align: right;\">\n",
       "      <th></th>\n",
       "      <th>name</th>\n",
       "      <th>latitude</th>\n",
       "      <th>longitude</th>\n",
       "      <th>address</th>\n",
       "    </tr>\n",
       "  </thead>\n",
       "  <tbody>\n",
       "    <tr>\n",
       "      <th>0</th>\n",
       "      <td>Melbourne Airport (MEL)</td>\n",
       "      <td>-37.669714</td>\n",
       "      <td>144.848484</td>\n",
       "      <td>Departure Dr (Tullamarine Fwy), Tullamarine VI...</td>\n",
       "    </tr>\n",
       "    <tr>\n",
       "      <th>1</th>\n",
       "      <td>Terminal 2</td>\n",
       "      <td>-37.669412</td>\n",
       "      <td>144.848405</td>\n",
       "      <td>MEL Airport, Tullamarine VIC</td>\n",
       "    </tr>\n",
       "    <tr>\n",
       "      <th>2</th>\n",
       "      <td>Terminal 3</td>\n",
       "      <td>-37.671283</td>\n",
       "      <td>144.848534</td>\n",
       "      <td>MEL Airport, Tullamarine VIC</td>\n",
       "    </tr>\n",
       "    <tr>\n",
       "      <th>3</th>\n",
       "      <td>T1 Terminal</td>\n",
       "      <td>-37.668636</td>\n",
       "      <td>144.850670</td>\n",
       "      <td>Melbourne Airport, Tullamarine VIC</td>\n",
       "    </tr>\n",
       "    <tr>\n",
       "      <th>4</th>\n",
       "      <td>T4</td>\n",
       "      <td>-37.673052</td>\n",
       "      <td>144.849040</td>\n",
       "      <td>MEL Airport, Tullamarine VIC</td>\n",
       "    </tr>\n",
       "  </tbody>\n",
       "</table>\n",
       "</div>"
      ],
      "text/plain": [
       "                      name   latitude   longitude  \\\n",
       "0  Melbourne Airport (MEL) -37.669714  144.848484   \n",
       "1               Terminal 2 -37.669412  144.848405   \n",
       "2               Terminal 3 -37.671283  144.848534   \n",
       "3              T1 Terminal -37.668636  144.850670   \n",
       "4                       T4 -37.673052  144.849040   \n",
       "\n",
       "                                             address  \n",
       "0  Departure Dr (Tullamarine Fwy), Tullamarine VI...  \n",
       "1                       MEL Airport, Tullamarine VIC  \n",
       "2                       MEL Airport, Tullamarine VIC  \n",
       "3                 Melbourne Airport, Tullamarine VIC  \n",
       "4                       MEL Airport, Tullamarine VIC  "
      ]
     },
     "execution_count": 192,
     "metadata": {},
     "output_type": "execute_result"
    }
   ],
   "source": [
    "travel_df1 = travel_df1[['name', 'geocodes.main.latitude', 'geocodes.main.longitude','location.formatted_address']]\n",
    "travel_df2 = travel_df2[['name', 'geocodes.main.latitude', 'geocodes.main.longitude','location.formatted_address']]\n",
    "travel_df3 = travel_df3[['name', 'geocodes.main.latitude', 'geocodes.main.longitude','location.formatted_address']]\n",
    "travel_df4 = travel_df4[['name', 'geocodes.main.latitude', 'geocodes.main.longitude','location.formatted_address']]\n",
    "travel_mel = pd.concat([travel_df1, travel_df2,travel_df3,travel_df4], ignore_index=True)\n",
    "travel_mel.rename(columns={'geocodes.main.latitude':'latitude','geocodes.main.longitude':'longitude','location.formatted_address':'address'}, \n",
    "                 inplace=True)\n",
    "travel_mel.head()"
   ]
  },
  {
   "cell_type": "code",
   "execution_count": 193,
   "id": "a9f8ce60-1590-4f2c-9895-e8bed3579550",
   "metadata": {},
   "outputs": [],
   "source": [
    "travel_mel.drop_duplicates(keep='first',inplace=True)\n",
    "travel_mel.to_csv('travel_mel_drop.csv',index=False)"
   ]
  },
  {
   "cell_type": "markdown",
   "id": "7428fabb-5f3f-4c5f-9d8a-36ef04db8f03",
   "metadata": {},
   "source": [
    "### How to use Foursquare Places API to get POI data including coordinates\n",
    "\n",
    "1. Create Fouresquare Places API account and you will receive up to $200 in free monthly usage credits.\n",
    "https://location.foursquare.com/products/places-api/\n",
    "\n",
    "2. Log into Foursquare Places Developer Console and create a new project and generate API_KEY to be used for running the API request.\n",
    "3. Place search API endpoint can be run as an example before (for Python)\n",
    "\n",
    "import requests\n",
    "\n",
    "url = \"https://api.foursquare.com/v3/places/search?ll=-38.2288%2C145.0600&radius=40000&categories=19031%2C19014&sort=POPULARITY&limit=50&fields=name%2Cgeocodes%2Clocation\"\n",
    "\n",
    "headers = {\n",
    "    \"accept\": \"application/json\",\n",
    "    \"Authorization\": API_KEY\n",
    "}\n",
    "\n",
    "For the complete documentation on supported parametres, please refer to the following link\n",
    "https://location.foursquare.com/developer/reference/place-search\n"
   ]
  },
  {
   "cell_type": "code",
   "execution_count": null,
   "id": "57608d92-f295-4cd2-8352-72fdd22df8a0",
   "metadata": {},
   "outputs": [],
   "source": []
  }
 ],
 "metadata": {
  "kernelspec": {
   "display_name": "Python 3",
   "language": "python",
   "name": "python3"
  },
  "language_info": {
   "codemirror_mode": {
    "name": "ipython",
    "version": 3
   },
   "file_extension": ".py",
   "mimetype": "text/x-python",
   "name": "python",
   "nbconvert_exporter": "python",
   "pygments_lexer": "ipython3",
   "version": "3.9.12"
  }
 },
 "nbformat": 4,
 "nbformat_minor": 5
}
