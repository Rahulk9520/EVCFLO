{
 "cells": [
  {
   "cell_type": "code",
   "execution_count": 5,
   "id": "7c0036c8-541e-4f29-a52d-5ba6c9963be3",
   "metadata": {},
   "outputs": [],
   "source": [
    "import pandas as pd\n",
    "import numpy as np\n",
    "import scipy.stats\n",
    "import matplotlib.pyplot as plt\n",
    "import matplotlib.ticker as ticker\n",
    "import datetime\n",
    "from datetime import datetime as dt\n",
    "import warnings\n",
    "import seaborn as sns\n",
    "warnings.filterwarnings(\"ignore\")"
   ]
  },
  {
   "cell_type": "markdown",
   "id": "aed818a7-f293-46b4-a598-aa0a47f5ad3e",
   "metadata": {},
   "source": [
    "#### Pre-requisites data manipulation steps in the \"uk_location_processed.csv\" file.\n",
    "1. Map AddressInfo.Town name with AddressInfo.Postcode according to the UK postcode list\n",
    "https://ideal-postcodes.co.uk/guides/postcode-areas\n",
    "2. Correct postcode format in some records.\n",
    "3. Update those records with capital letters in AddressInfo.Town to be smaller letters.\n",
    "2. Filter out records from the countries which are not part of the UK ie, Isle of Man, Ireland and Channel Islands.\n",
    "3. Filter out records with imcomplete coordinates. "
   ]
  },
  {
   "cell_type": "code",
   "execution_count": 138,
   "id": "f8cab0db-d124-4298-86bd-33134b07cf39",
   "metadata": {},
   "outputs": [
    {
     "data": {
      "text/html": [
       "<div>\n",
       "<style scoped>\n",
       "    .dataframe tbody tr th:only-of-type {\n",
       "        vertical-align: middle;\n",
       "    }\n",
       "\n",
       "    .dataframe tbody tr th {\n",
       "        vertical-align: top;\n",
       "    }\n",
       "\n",
       "    .dataframe thead th {\n",
       "        text-align: right;\n",
       "    }\n",
       "</style>\n",
       "<table border=\"1\" class=\"dataframe\">\n",
       "  <thead>\n",
       "    <tr style=\"text-align: right;\">\n",
       "      <th></th>\n",
       "      <th>con-ID</th>\n",
       "      <th>con-ConnectionTypeID</th>\n",
       "      <th>con-StatusTypeID</th>\n",
       "      <th>con-LevelID</th>\n",
       "      <th>con-Amps</th>\n",
       "      <th>con-Voltage</th>\n",
       "      <th>con-PowerKW</th>\n",
       "      <th>con-CurrentTypeID</th>\n",
       "      <th>con-Quantity</th>\n",
       "      <th>ID</th>\n",
       "      <th>...</th>\n",
       "      <th>StatusTypeID</th>\n",
       "      <th>NumberOfPoints</th>\n",
       "      <th>UsageTypeID</th>\n",
       "      <th>AddressInfo.Title</th>\n",
       "      <th>AddressInfo.Town</th>\n",
       "      <th>AddressInfo.AddressLine1</th>\n",
       "      <th>AddressInfo.StateOrProvince</th>\n",
       "      <th>AddressInfo.Postcode</th>\n",
       "      <th>AddressInfo.Latitude</th>\n",
       "      <th>AddressInfo.Longitude</th>\n",
       "    </tr>\n",
       "  </thead>\n",
       "  <tbody>\n",
       "    <tr>\n",
       "      <th>0</th>\n",
       "      <td>206268</td>\n",
       "      <td>Type 2 (Socket Only)</td>\n",
       "      <td>Operational</td>\n",
       "      <td>2.0</td>\n",
       "      <td>32.0</td>\n",
       "      <td>230.0</td>\n",
       "      <td>7.0</td>\n",
       "      <td>AC (Single-Phase)</td>\n",
       "      <td>4.0</td>\n",
       "      <td>148539</td>\n",
       "      <td>...</td>\n",
       "      <td>50.0</td>\n",
       "      <td>4.0</td>\n",
       "      <td>4.0</td>\n",
       "      <td>Tesco Superstore-Braintree Great Notley</td>\n",
       "      <td>Chelmsford</td>\n",
       "      <td>1 the Square</td>\n",
       "      <td>Braintree</td>\n",
       "      <td>CM77 7WW</td>\n",
       "      <td>51.857605</td>\n",
       "      <td>0.521807</td>\n",
       "    </tr>\n",
       "    <tr>\n",
       "      <th>1</th>\n",
       "      <td>191829</td>\n",
       "      <td>Type 2 (Socket Only)</td>\n",
       "      <td>Unknown</td>\n",
       "      <td>2.0</td>\n",
       "      <td>32.0</td>\n",
       "      <td>400.0</td>\n",
       "      <td>22.0</td>\n",
       "      <td>AC (Three-Phase)</td>\n",
       "      <td>NaN</td>\n",
       "      <td>137034</td>\n",
       "      <td>...</td>\n",
       "      <td>0.0</td>\n",
       "      <td>NaN</td>\n",
       "      <td>1.0</td>\n",
       "      <td>University of St Andrews, Bute Building Annex</td>\n",
       "      <td>Kirkcaldy</td>\n",
       "      <td>Queens Terrace</td>\n",
       "      <td>NaN</td>\n",
       "      <td>KY16 9TS</td>\n",
       "      <td>56.338011</td>\n",
       "      <td>-2.793738</td>\n",
       "    </tr>\n",
       "    <tr>\n",
       "      <th>2</th>\n",
       "      <td>191830</td>\n",
       "      <td>Type 2 (Socket Only)</td>\n",
       "      <td>Unknown</td>\n",
       "      <td>2.0</td>\n",
       "      <td>32.0</td>\n",
       "      <td>400.0</td>\n",
       "      <td>22.0</td>\n",
       "      <td>AC (Three-Phase)</td>\n",
       "      <td>NaN</td>\n",
       "      <td>137034</td>\n",
       "      <td>...</td>\n",
       "      <td>0.0</td>\n",
       "      <td>NaN</td>\n",
       "      <td>1.0</td>\n",
       "      <td>University of St Andrews, Bute Building Annex</td>\n",
       "      <td>Kirkcaldy</td>\n",
       "      <td>Queens Terrace</td>\n",
       "      <td>NaN</td>\n",
       "      <td>KY16 9TS</td>\n",
       "      <td>56.338011</td>\n",
       "      <td>-2.793738</td>\n",
       "    </tr>\n",
       "    <tr>\n",
       "      <th>3</th>\n",
       "      <td>34678</td>\n",
       "      <td>Type 2 (Socket Only)</td>\n",
       "      <td>Operational</td>\n",
       "      <td>2.0</td>\n",
       "      <td>32.0</td>\n",
       "      <td>230.0</td>\n",
       "      <td>7.0</td>\n",
       "      <td>AC (Single-Phase)</td>\n",
       "      <td>2.0</td>\n",
       "      <td>19652</td>\n",
       "      <td>...</td>\n",
       "      <td>50.0</td>\n",
       "      <td>2.0</td>\n",
       "      <td>4.0</td>\n",
       "      <td>Asda Ferring Superstore</td>\n",
       "      <td>Brighton</td>\n",
       "      <td>Littlehampton Rd</td>\n",
       "      <td>West Sussex</td>\n",
       "      <td>BN12 6PN</td>\n",
       "      <td>50.818059</td>\n",
       "      <td>-0.458707</td>\n",
       "    </tr>\n",
       "    <tr>\n",
       "      <th>4</th>\n",
       "      <td>51489</td>\n",
       "      <td>BS1363 3 Pin 13 Amp</td>\n",
       "      <td>Operational</td>\n",
       "      <td>2.0</td>\n",
       "      <td>13.0</td>\n",
       "      <td>230.0</td>\n",
       "      <td>3.0</td>\n",
       "      <td>AC (Single-Phase)</td>\n",
       "      <td>2.0</td>\n",
       "      <td>19652</td>\n",
       "      <td>...</td>\n",
       "      <td>50.0</td>\n",
       "      <td>2.0</td>\n",
       "      <td>4.0</td>\n",
       "      <td>Asda Ferring Superstore</td>\n",
       "      <td>Brighton</td>\n",
       "      <td>Littlehampton Rd</td>\n",
       "      <td>West Sussex</td>\n",
       "      <td>BN12 6PN</td>\n",
       "      <td>50.818059</td>\n",
       "      <td>-0.458707</td>\n",
       "    </tr>\n",
       "  </tbody>\n",
       "</table>\n",
       "<p>5 rows × 22 columns</p>\n",
       "</div>"
      ],
      "text/plain": [
       "   con-ID  con-ConnectionTypeID con-StatusTypeID  con-LevelID  con-Amps  \\\n",
       "0  206268  Type 2 (Socket Only)      Operational          2.0      32.0   \n",
       "1  191829  Type 2 (Socket Only)          Unknown          2.0      32.0   \n",
       "2  191830  Type 2 (Socket Only)          Unknown          2.0      32.0   \n",
       "3   34678  Type 2 (Socket Only)      Operational          2.0      32.0   \n",
       "4   51489   BS1363 3 Pin 13 Amp      Operational          2.0      13.0   \n",
       "\n",
       "   con-Voltage  con-PowerKW  con-CurrentTypeID  con-Quantity      ID  ...  \\\n",
       "0        230.0          7.0  AC (Single-Phase)           4.0  148539  ...   \n",
       "1        400.0         22.0   AC (Three-Phase)           NaN  137034  ...   \n",
       "2        400.0         22.0   AC (Three-Phase)           NaN  137034  ...   \n",
       "3        230.0          7.0  AC (Single-Phase)           2.0   19652  ...   \n",
       "4        230.0          3.0  AC (Single-Phase)           2.0   19652  ...   \n",
       "\n",
       "  StatusTypeID  NumberOfPoints  UsageTypeID  \\\n",
       "0         50.0             4.0          4.0   \n",
       "1          0.0             NaN          1.0   \n",
       "2          0.0             NaN          1.0   \n",
       "3         50.0             2.0          4.0   \n",
       "4         50.0             2.0          4.0   \n",
       "\n",
       "                               AddressInfo.Title  AddressInfo.Town  \\\n",
       "0        Tesco Superstore-Braintree Great Notley        Chelmsford   \n",
       "1  University of St Andrews, Bute Building Annex         Kirkcaldy   \n",
       "2  University of St Andrews, Bute Building Annex         Kirkcaldy   \n",
       "3                        Asda Ferring Superstore          Brighton   \n",
       "4                        Asda Ferring Superstore          Brighton   \n",
       "\n",
       "  AddressInfo.AddressLine1 AddressInfo.StateOrProvince AddressInfo.Postcode  \\\n",
       "0             1 the Square                   Braintree             CM77 7WW   \n",
       "1           Queens Terrace                         NaN             KY16 9TS   \n",
       "2           Queens Terrace                         NaN             KY16 9TS   \n",
       "3         Littlehampton Rd                 West Sussex             BN12 6PN   \n",
       "4         Littlehampton Rd                 West Sussex             BN12 6PN   \n",
       "\n",
       "  AddressInfo.Latitude AddressInfo.Longitude  \n",
       "0            51.857605              0.521807  \n",
       "1            56.338011             -2.793738  \n",
       "2            56.338011             -2.793738  \n",
       "3            50.818059             -0.458707  \n",
       "4            50.818059             -0.458707  \n",
       "\n",
       "[5 rows x 22 columns]"
      ]
     },
     "execution_count": 138,
     "metadata": {},
     "output_type": "execute_result"
    }
   ],
   "source": [
    "df = pd.read_csv(\"uk_location_processed.csv\")\n",
    "df.head()"
   ]
  },
  {
   "cell_type": "code",
   "execution_count": 139,
   "id": "02ec0324-8995-470c-9d27-e7ae3798c555",
   "metadata": {},
   "outputs": [
    {
     "data": {
      "text/plain": [
       "(20666, 22)"
      ]
     },
     "execution_count": 139,
     "metadata": {},
     "output_type": "execute_result"
    }
   ],
   "source": [
    "df.shape"
   ]
  },
  {
   "cell_type": "code",
   "execution_count": 198,
   "id": "0b2c651e-8f3d-424c-a7e3-d59d60a67c75",
   "metadata": {},
   "outputs": [
    {
     "data": {
      "text/plain": [
       "con-ID                             0\n",
       "con-ConnectionTypeID               0\n",
       "con-StatusTypeID                  58\n",
       "con-LevelID                       65\n",
       "con-Amps                        4750\n",
       "con-Voltage                     4482\n",
       "con-PowerKW                      132\n",
       "con-CurrentTypeID                225\n",
       "con-Quantity                    4234\n",
       "ID                                 0\n",
       "UsageCost                       6213\n",
       "OperatorID                       516\n",
       "StatusTypeID                      26\n",
       "NumberOfPoints                  4882\n",
       "UsageTypeID                       14\n",
       "AddressInfo.Title                 10\n",
       "AddressInfo.Town                   1\n",
       "AddressInfo.AddressLine1         328\n",
       "AddressInfo.StateOrProvince    11775\n",
       "AddressInfo.Postcode              79\n",
       "AddressInfo.Latitude               0\n",
       "AddressInfo.Longitude              0\n",
       "dtype: int64"
      ]
     },
     "execution_count": 198,
     "metadata": {},
     "output_type": "execute_result"
    }
   ],
   "source": [
    "## There are columns with null values which is ok since we will not be focusing on those information.\n",
    "df.isnull().sum()"
   ]
  },
  {
   "cell_type": "code",
   "execution_count": 141,
   "id": "5c9bb82f-93b9-4362-a047-f59f3739f466",
   "metadata": {},
   "outputs": [],
   "source": [
    "df1 = df.drop(['con-ID', 'con-LevelID','OperatorID'], axis=1)"
   ]
  },
  {
   "cell_type": "code",
   "execution_count": 142,
   "id": "48f07858-1ac4-479c-b4f3-252ffc10ba0f",
   "metadata": {},
   "outputs": [
    {
     "data": {
      "text/html": [
       "<div>\n",
       "<style scoped>\n",
       "    .dataframe tbody tr th:only-of-type {\n",
       "        vertical-align: middle;\n",
       "    }\n",
       "\n",
       "    .dataframe tbody tr th {\n",
       "        vertical-align: top;\n",
       "    }\n",
       "\n",
       "    .dataframe thead th {\n",
       "        text-align: right;\n",
       "    }\n",
       "</style>\n",
       "<table border=\"1\" class=\"dataframe\">\n",
       "  <thead>\n",
       "    <tr style=\"text-align: right;\">\n",
       "      <th></th>\n",
       "      <th>con-Amps</th>\n",
       "      <th>con-Voltage</th>\n",
       "      <th>con-PowerKW</th>\n",
       "      <th>con-Quantity</th>\n",
       "      <th>ID</th>\n",
       "      <th>StatusTypeID</th>\n",
       "      <th>NumberOfPoints</th>\n",
       "      <th>UsageTypeID</th>\n",
       "      <th>AddressInfo.Latitude</th>\n",
       "      <th>AddressInfo.Longitude</th>\n",
       "    </tr>\n",
       "  </thead>\n",
       "  <tbody>\n",
       "    <tr>\n",
       "      <th>count</th>\n",
       "      <td>15916.000000</td>\n",
       "      <td>16184.000000</td>\n",
       "      <td>20534.000000</td>\n",
       "      <td>16432.000000</td>\n",
       "      <td>20666.000000</td>\n",
       "      <td>20640.000000</td>\n",
       "      <td>15784.000000</td>\n",
       "      <td>20652.000000</td>\n",
       "      <td>20666.000000</td>\n",
       "      <td>20666.000000</td>\n",
       "    </tr>\n",
       "    <tr>\n",
       "      <th>mean</th>\n",
       "      <td>45.964690</td>\n",
       "      <td>305.073838</td>\n",
       "      <td>25.372678</td>\n",
       "      <td>1.925755</td>\n",
       "      <td>111782.680393</td>\n",
       "      <td>41.184109</td>\n",
       "      <td>2.584833</td>\n",
       "      <td>4.003728</td>\n",
       "      <td>52.706575</td>\n",
       "      <td>-1.556812</td>\n",
       "    </tr>\n",
       "    <tr>\n",
       "      <th>std</th>\n",
       "      <td>44.143104</td>\n",
       "      <td>122.576031</td>\n",
       "      <td>29.259609</td>\n",
       "      <td>2.293155</td>\n",
       "      <td>53414.960116</td>\n",
       "      <td>24.271657</td>\n",
       "      <td>3.155884</td>\n",
       "      <td>1.345909</td>\n",
       "      <td>1.755624</td>\n",
       "      <td>1.629930</td>\n",
       "    </tr>\n",
       "    <tr>\n",
       "      <th>min</th>\n",
       "      <td>0.000000</td>\n",
       "      <td>2.000000</td>\n",
       "      <td>0.000000</td>\n",
       "      <td>-2.000000</td>\n",
       "      <td>4121.000000</td>\n",
       "      <td>0.000000</td>\n",
       "      <td>-4.000000</td>\n",
       "      <td>0.000000</td>\n",
       "      <td>49.200249</td>\n",
       "      <td>-9.049076</td>\n",
       "    </tr>\n",
       "    <tr>\n",
       "      <th>25%</th>\n",
       "      <td>32.000000</td>\n",
       "      <td>230.000000</td>\n",
       "      <td>7.000000</td>\n",
       "      <td>1.000000</td>\n",
       "      <td>70658.000000</td>\n",
       "      <td>50.000000</td>\n",
       "      <td>1.000000</td>\n",
       "      <td>4.000000</td>\n",
       "      <td>51.479236</td>\n",
       "      <td>-2.584041</td>\n",
       "    </tr>\n",
       "    <tr>\n",
       "      <th>50%</th>\n",
       "      <td>32.000000</td>\n",
       "      <td>230.000000</td>\n",
       "      <td>7.000000</td>\n",
       "      <td>1.000000</td>\n",
       "      <td>125405.000000</td>\n",
       "      <td>50.000000</td>\n",
       "      <td>2.000000</td>\n",
       "      <td>4.000000</td>\n",
       "      <td>51.947388</td>\n",
       "      <td>-1.312956</td>\n",
       "    </tr>\n",
       "    <tr>\n",
       "      <th>75%</th>\n",
       "      <td>32.000000</td>\n",
       "      <td>400.000000</td>\n",
       "      <td>50.000000</td>\n",
       "      <td>2.000000</td>\n",
       "      <td>157745.000000</td>\n",
       "      <td>50.000000</td>\n",
       "      <td>3.000000</td>\n",
       "      <td>5.000000</td>\n",
       "      <td>53.609875</td>\n",
       "      <td>-0.200133</td>\n",
       "    </tr>\n",
       "    <tr>\n",
       "      <th>max</th>\n",
       "      <td>500.000000</td>\n",
       "      <td>1000.000000</td>\n",
       "      <td>600.000000</td>\n",
       "      <td>100.000000</td>\n",
       "      <td>192948.000000</td>\n",
       "      <td>210.000000</td>\n",
       "      <td>100.000000</td>\n",
       "      <td>7.000000</td>\n",
       "      <td>60.759189</td>\n",
       "      <td>4.156398</td>\n",
       "    </tr>\n",
       "  </tbody>\n",
       "</table>\n",
       "</div>"
      ],
      "text/plain": [
       "           con-Amps   con-Voltage   con-PowerKW  con-Quantity             ID  \\\n",
       "count  15916.000000  16184.000000  20534.000000  16432.000000   20666.000000   \n",
       "mean      45.964690    305.073838     25.372678      1.925755  111782.680393   \n",
       "std       44.143104    122.576031     29.259609      2.293155   53414.960116   \n",
       "min        0.000000      2.000000      0.000000     -2.000000    4121.000000   \n",
       "25%       32.000000    230.000000      7.000000      1.000000   70658.000000   \n",
       "50%       32.000000    230.000000      7.000000      1.000000  125405.000000   \n",
       "75%       32.000000    400.000000     50.000000      2.000000  157745.000000   \n",
       "max      500.000000   1000.000000    600.000000    100.000000  192948.000000   \n",
       "\n",
       "       StatusTypeID  NumberOfPoints   UsageTypeID  AddressInfo.Latitude  \\\n",
       "count  20640.000000    15784.000000  20652.000000          20666.000000   \n",
       "mean      41.184109        2.584833      4.003728             52.706575   \n",
       "std       24.271657        3.155884      1.345909              1.755624   \n",
       "min        0.000000       -4.000000      0.000000             49.200249   \n",
       "25%       50.000000        1.000000      4.000000             51.479236   \n",
       "50%       50.000000        2.000000      4.000000             51.947388   \n",
       "75%       50.000000        3.000000      5.000000             53.609875   \n",
       "max      210.000000      100.000000      7.000000             60.759189   \n",
       "\n",
       "       AddressInfo.Longitude  \n",
       "count           20666.000000  \n",
       "mean               -1.556812  \n",
       "std                 1.629930  \n",
       "min                -9.049076  \n",
       "25%                -2.584041  \n",
       "50%                -1.312956  \n",
       "75%                -0.200133  \n",
       "max                 4.156398  "
      ]
     },
     "execution_count": 142,
     "metadata": {},
     "output_type": "execute_result"
    }
   ],
   "source": [
    "df1.describe()"
   ]
  },
  {
   "cell_type": "code",
   "execution_count": 143,
   "id": "444c2c25-9006-429d-aa05-ca14fb6fa25a",
   "metadata": {},
   "outputs": [
    {
     "name": "stdout",
     "output_type": "stream",
     "text": [
      "['Chelmsford' 'Kirkcaldy' 'Brighton' 'Coventry' 'London' 'Inverness'\n",
      " 'Slough' 'Sunderland' 'Blackburn' 'Guildford' 'Dumfries' 'Norwich'\n",
      " 'Milton Keynes' 'Oldham' 'Oxford' 'Doncaster' 'Perth' 'Birmingham'\n",
      " 'Newcastle upon Tyne' 'Southampton' 'Nottingham' 'Kilmarnock' 'Sheffield'\n",
      " 'Teesside' 'Kingston upon Thames' 'Dudley' 'Harrow' 'Leicester'\n",
      " 'Hemel Hempstead' 'Walsall' 'Hebrides' 'Peterborough' 'Wigan'\n",
      " 'Galashiels' 'Bristol' 'Hereford' 'Dartford' 'Derby' 'Enfield'\n",
      " 'Southend-on-Sea' 'Portsmouth' 'Worcester' 'Tunbridge Wells' 'Aberdeen'\n",
      " 'Bradford' 'Plymouth' 'Sutton' 'Huddersfield ' 'Dorchester' 'Northampton'\n",
      " 'Twickenham' 'Gloucester' 'Wolverhampton' 'Edinburgh' 'Belfast' 'Swindon'\n",
      " 'Llandrindod Wells' 'Wakefeild' 'Swansea' 'Glasgow' 'Truro' 'Stevenage'\n",
      " 'Manchester' 'Cardiff' 'Kirkwall' 'Telford' 'Redhill' 'Stoke-on-Trent'\n",
      " 'Reading' 'Luton' 'York' 'Falkirk' 'Lancaster' 'Canterbury' 'Llandudno'\n",
      " 'Cambridge' 'Lincoln' 'Ipswich' 'Lerwick' 'Shrewsbury' 'Preston' 'Bath'\n",
      " 'Newport' 'Torquay' 'Romford' 'Bromley' 'Carlisle' 'Chester' 'Hull'\n",
      " 'Liverpool' 'Leeds' 'Salisbury' 'Colchester' 'Ilford' 'Paisley' 'Crewe'\n",
      " 'Stockport' 'Croydon' 'Durham' 'Bolton' 'Darlington' 'Blackpool' 'Dundee'\n",
      " 'St Albans' 'Medway' 'Exeter' 'Bournemouth' 'Watford' 'Uxbridge'\n",
      " 'Halifax' 'Warrington' 'Galway' 'Motherwell' 'Taunton' 'Jersey'\n",
      " 'Harrogate' nan 'Blackheath' 'Southport']\n"
     ]
    }
   ],
   "source": [
    "location_name = df1['AddressInfo.Town'].unique()\n",
    "location_name\n",
    "with np.printoptions(threshold=np.inf):\n",
    "     print(location_name)"
   ]
  },
  {
   "cell_type": "code",
   "execution_count": 144,
   "id": "223e15c7-fc62-4a76-8fb6-618f1abaf6c9",
   "metadata": {},
   "outputs": [],
   "source": [
    "locations = pd.DataFrame(df1.groupby(['ID','AddressInfo.Town']).size())\n",
    "locations = locations .reset_index()"
   ]
  },
  {
   "cell_type": "code",
   "execution_count": 145,
   "id": "1acf613c-1ff8-4b6b-8c48-9a0d5242c68d",
   "metadata": {},
   "outputs": [
    {
     "data": {
      "text/html": [
       "<div>\n",
       "<style scoped>\n",
       "    .dataframe tbody tr th:only-of-type {\n",
       "        vertical-align: middle;\n",
       "    }\n",
       "\n",
       "    .dataframe tbody tr th {\n",
       "        vertical-align: top;\n",
       "    }\n",
       "\n",
       "    .dataframe thead th {\n",
       "        text-align: right;\n",
       "    }\n",
       "</style>\n",
       "<table border=\"1\" class=\"dataframe\">\n",
       "  <thead>\n",
       "    <tr style=\"text-align: right;\">\n",
       "      <th></th>\n",
       "      <th>ID</th>\n",
       "      <th>AddressInfo.Town</th>\n",
       "      <th>0</th>\n",
       "    </tr>\n",
       "  </thead>\n",
       "  <tbody>\n",
       "    <tr>\n",
       "      <th>0</th>\n",
       "      <td>4121</td>\n",
       "      <td>Aberdeen</td>\n",
       "      <td>2</td>\n",
       "    </tr>\n",
       "    <tr>\n",
       "      <th>1</th>\n",
       "      <td>4123</td>\n",
       "      <td>Edinburgh</td>\n",
       "      <td>2</td>\n",
       "    </tr>\n",
       "    <tr>\n",
       "      <th>2</th>\n",
       "      <td>4124</td>\n",
       "      <td>Belfast</td>\n",
       "      <td>2</td>\n",
       "    </tr>\n",
       "    <tr>\n",
       "      <th>3</th>\n",
       "      <td>4125</td>\n",
       "      <td>Preston</td>\n",
       "      <td>2</td>\n",
       "    </tr>\n",
       "    <tr>\n",
       "      <th>4</th>\n",
       "      <td>4126</td>\n",
       "      <td>Halifax</td>\n",
       "      <td>2</td>\n",
       "    </tr>\n",
       "    <tr>\n",
       "      <th>...</th>\n",
       "      <td>...</td>\n",
       "      <td>...</td>\n",
       "      <td>...</td>\n",
       "    </tr>\n",
       "    <tr>\n",
       "      <th>12375</th>\n",
       "      <td>192933</td>\n",
       "      <td>Stevenage</td>\n",
       "      <td>2</td>\n",
       "    </tr>\n",
       "    <tr>\n",
       "      <th>12376</th>\n",
       "      <td>192934</td>\n",
       "      <td>Bournemouth</td>\n",
       "      <td>2</td>\n",
       "    </tr>\n",
       "    <tr>\n",
       "      <th>12377</th>\n",
       "      <td>192937</td>\n",
       "      <td>Stoke-on-Trent</td>\n",
       "      <td>3</td>\n",
       "    </tr>\n",
       "    <tr>\n",
       "      <th>12378</th>\n",
       "      <td>192938</td>\n",
       "      <td>Stoke-on-Trent</td>\n",
       "      <td>4</td>\n",
       "    </tr>\n",
       "    <tr>\n",
       "      <th>12379</th>\n",
       "      <td>192948</td>\n",
       "      <td>Shrewsbury</td>\n",
       "      <td>4</td>\n",
       "    </tr>\n",
       "  </tbody>\n",
       "</table>\n",
       "<p>12380 rows × 3 columns</p>\n",
       "</div>"
      ],
      "text/plain": [
       "           ID AddressInfo.Town  0\n",
       "0        4121         Aberdeen  2\n",
       "1        4123        Edinburgh  2\n",
       "2        4124          Belfast  2\n",
       "3        4125          Preston  2\n",
       "4        4126          Halifax  2\n",
       "...       ...              ... ..\n",
       "12375  192933        Stevenage  2\n",
       "12376  192934      Bournemouth  2\n",
       "12377  192937   Stoke-on-Trent  3\n",
       "12378  192938   Stoke-on-Trent  4\n",
       "12379  192948       Shrewsbury  4\n",
       "\n",
       "[12380 rows x 3 columns]"
      ]
     },
     "execution_count": 145,
     "metadata": {},
     "output_type": "execute_result"
    }
   ],
   "source": [
    "locations"
   ]
  },
  {
   "cell_type": "code",
   "execution_count": 146,
   "id": "927251df-e5bd-44f9-879d-d7ad142fa85e",
   "metadata": {},
   "outputs": [],
   "source": [
    "locations.columns = ['ID','AddressInfo.Town', 'Number of Connections']"
   ]
  },
  {
   "cell_type": "code",
   "execution_count": 150,
   "id": "814ffc1d-b7cc-430f-bfa0-adfa60bdb4a8",
   "metadata": {},
   "outputs": [
    {
     "data": {
      "text/plain": [
       "London                 2492\n",
       "Coventry                306\n",
       "Newcastle upon Tyne     264\n",
       "Twickenham              258\n",
       "Belfast                 244\n",
       "                       ... \n",
       "Harrogate                17\n",
       "Galway                    2\n",
       "Southport                 1\n",
       "Blackheath                1\n",
       "Jersey                    1\n",
       "Name: AddressInfo.Town, Length: 118, dtype: int64"
      ]
     },
     "execution_count": 150,
     "metadata": {},
     "output_type": "execute_result"
    }
   ],
   "source": [
    "locations['AddressInfo.Town'].value_counts()"
   ]
  },
  {
   "cell_type": "code",
   "execution_count": 132,
   "id": "3ed7ae6f-55e1-4ee3-a444-06d8f50859f9",
   "metadata": {},
   "outputs": [
    {
     "data": {
      "image/png": "[encoded data removed]",
      "text/plain": [
       "<Figure size 1440x360 with 1 Axes>"
      ]
     },
     "metadata": {
      "needs_background": "light"
     },
     "output_type": "display_data"
    }
   ],
   "source": [
    "loc_count = locations['AddressInfo.Town'].value_counts()\n",
    "loc_count = loc_count[:10,]\n",
    "plt.figure(figsize=(20,5))\n",
    "sns.barplot(loc_count.index, loc_count.values, alpha=0.8)\n",
    "plt.title('Top 10 UK cities with most EV charing locations')\n",
    "plt.ylabel('Number of Locations', fontsize=12)\n",
    "plt.xlabel('city', fontsize=12)\n",
    "plt.show()"
   ]
  },
  {
   "cell_type": "code",
   "execution_count": 168,
   "id": "485ce0de-53a3-4025-9db8-0689f865080d",
   "metadata": {},
   "outputs": [
    {
     "data": {
      "text/plain": [
       "Southport      1\n",
       "Blackheath     1\n",
       "Jersey         1\n",
       "Galway         2\n",
       "Harrogate     17\n",
       "Halifax       18\n",
       "Telford       23\n",
       "Lerwick       23\n",
       "Blackpool     24\n",
       "Hebrides      26\n",
       "Name: AddressInfo.Town, dtype: int64"
      ]
     },
     "execution_count": 168,
     "metadata": {},
     "output_type": "execute_result"
    }
   ],
   "source": [
    "ten_least = loc_count.nsmallest(10)\n",
    "ten_least"
   ]
  },
  {
   "cell_type": "code",
   "execution_count": 225,
   "id": "4892081f-a4eb-4978-9a31-81d7991b4eac",
   "metadata": {},
   "outputs": [
    {
     "data": {
      "image/png": "[encoded data removed]",
      "text/plain": [
       "<Figure size 1440x360 with 1 Axes>"
      ]
     },
     "metadata": {
      "needs_background": "light"
     },
     "output_type": "display_data"
    }
   ],
   "source": [
    "plt.figure(figsize=(20,5))\n",
    "sns.barplot(ten_least.index, ten_least.values, alpha=0.8)\n",
    "plt.title('10 UK cities with least EV charing locations')\n",
    "plt.ylabel('Number of Locations', fontsize=12)\n",
    "plt.xlabel('city', fontsize=12)\n",
    "plt.show()"
   ]
  },
  {
   "cell_type": "code",
   "execution_count": 226,
   "id": "b93614ee-1075-4d9e-96ee-b02c2ea473df",
   "metadata": {},
   "outputs": [
    {
     "data": {
      "text/plain": [
       "con-ConnectionTypeID\n",
       "BS1363 3 Pin 13 Amp              915\n",
       "Blue Commando (2P+E)              99\n",
       "CCS (Type 2)                    2682\n",
       "CEE 3 Pin                          3\n",
       "CEE 5 Pin                         10\n",
       "CHAdeMO                         2782\n",
       "IEC 60309 5-pin                    2\n",
       "NEMA 6-20                          1\n",
       "Tesla (Model S/X)                557\n",
       "Tesla (Roadster)                  10\n",
       "Tesla Supercharger                81\n",
       "Type 1 (J1772)                   793\n",
       "Type 2 (Socket Only)           11030\n",
       "Type 2 (Tethered Connector)     1675\n",
       "Unknown                           26\n",
       "dtype: int64"
      ]
     },
     "execution_count": 226,
     "metadata": {},
     "output_type": "execute_result"
    }
   ],
   "source": [
    "## The number of each EV charging plug types in the UK.\n",
    "plugType = df1.groupby(['con-ConnectionTypeID']).size()\n",
    "plugType"
   ]
  },
  {
   "cell_type": "code",
   "execution_count": 227,
   "id": "9aaca29f-9d98-48b3-8ddd-5dfbf20389ab",
   "metadata": {},
   "outputs": [
    {
     "data": {
      "image/png": "[encoded data removed]",
      "text/plain": [
       "<Figure size 1080x432 with 1 Axes>"
      ]
     },
     "metadata": {
      "needs_background": "light"
     },
     "output_type": "display_data"
    }
   ],
   "source": [
    "plt.figure(figsize=(15,6))\n",
    "sns.barplot(plugType.index, plugType.values, alpha=0.8)\n",
    "plt.title('TThe number of each EV charging plug types in the UK')\n",
    "plt.xticks(rotation=90)\n",
    "plt.ylabel('Number of Connections', fontsize=10)\n",
    "plt.xlabel('city', fontsize=10)\n",
    "plt.show()"
   ]
  },
  {
   "cell_type": "code",
   "execution_count": 184,
   "id": "a0efca68-60b2-4deb-b8ae-b1e509ae136c",
   "metadata": {},
   "outputs": [
    {
     "data": {
      "text/plain": [
       "AC (Single-Phase)    10164\n",
       "DC                    5667\n",
       "AC (Three-Phase)      4610\n",
       "Name: con-CurrentTypeID, dtype: int64"
      ]
     },
     "execution_count": 184,
     "metadata": {},
     "output_type": "execute_result"
    }
   ],
   "source": [
    "## EV charging connection types in the UK.\n",
    "currentType = df1['con-CurrentTypeID'].value_counts()\n",
    "currentType"
   ]
  },
  {
   "cell_type": "code",
   "execution_count": 228,
   "id": "3256d7fa-1733-479a-b1ce-8a93d9f3fdcb",
   "metadata": {},
   "outputs": [
    {
     "data": {
      "image/png": "[encoded data removed]",
      "text/plain": [
       "<Figure size 1440x360 with 1 Axes>"
      ]
     },
     "metadata": {},
     "output_type": "display_data"
    }
   ],
   "source": [
    "plt.figure(figsize=(20,5))\n",
    "labels = ['AC (Single-Phase)', 'DC', 'AC (Three-Phase)']\n",
    "colors = sns.color_palette('pastel')[0:5]\n",
    "plt.pie(currentType,labels = labels, colors = colors,autopct=\"%.2f%%\")\n",
    "plt.title('EV charging connection types in the UK')\n",
    "plt.show()"
   ]
  },
  {
   "cell_type": "markdown",
   "id": "225b9cbe-68d3-4328-b77e-226f5bd02f4d",
   "metadata": {},
   "source": [
    "## London data"
   ]
  },
  {
   "cell_type": "code",
   "execution_count": 192,
   "id": "d851412a-6c2b-489e-a5be-e300985da28c",
   "metadata": {},
   "outputs": [
    {
     "data": {
      "text/html": [
       "<div>\n",
       "<style scoped>\n",
       "    .dataframe tbody tr th:only-of-type {\n",
       "        vertical-align: middle;\n",
       "    }\n",
       "\n",
       "    .dataframe tbody tr th {\n",
       "        vertical-align: top;\n",
       "    }\n",
       "\n",
       "    .dataframe thead th {\n",
       "        text-align: right;\n",
       "    }\n",
       "</style>\n",
       "<table border=\"1\" class=\"dataframe\">\n",
       "  <thead>\n",
       "    <tr style=\"text-align: right;\">\n",
       "      <th></th>\n",
       "      <th>con-ConnectionTypeID</th>\n",
       "      <th>con-StatusTypeID</th>\n",
       "      <th>con-Amps</th>\n",
       "      <th>con-Voltage</th>\n",
       "      <th>con-PowerKW</th>\n",
       "      <th>con-CurrentTypeID</th>\n",
       "      <th>con-Quantity</th>\n",
       "      <th>ID</th>\n",
       "      <th>UsageCost</th>\n",
       "      <th>StatusTypeID</th>\n",
       "      <th>NumberOfPoints</th>\n",
       "      <th>UsageTypeID</th>\n",
       "      <th>AddressInfo.Title</th>\n",
       "      <th>AddressInfo.Town</th>\n",
       "      <th>AddressInfo.AddressLine1</th>\n",
       "      <th>AddressInfo.StateOrProvince</th>\n",
       "      <th>AddressInfo.Postcode</th>\n",
       "      <th>AddressInfo.Latitude</th>\n",
       "      <th>AddressInfo.Longitude</th>\n",
       "    </tr>\n",
       "  </thead>\n",
       "  <tbody>\n",
       "    <tr>\n",
       "      <th>6</th>\n",
       "      <td>Type 2 (Socket Only)</td>\n",
       "      <td>Operational</td>\n",
       "      <td>32.0</td>\n",
       "      <td>230.0</td>\n",
       "      <td>7.0</td>\n",
       "      <td>AC (Single-Phase)</td>\n",
       "      <td>2.0</td>\n",
       "      <td>101805</td>\n",
       "      <td>Inclusive; for Polar Plus subscription members...</td>\n",
       "      <td>50.0</td>\n",
       "      <td>2.0</td>\n",
       "      <td>4.0</td>\n",
       "      <td>Aldermans Hill</td>\n",
       "      <td>London</td>\n",
       "      <td>Aldermans Hill</td>\n",
       "      <td>London</td>\n",
       "      <td>N13 4PN</td>\n",
       "      <td>51.618561</td>\n",
       "      <td>-0.111586</td>\n",
       "    </tr>\n",
       "    <tr>\n",
       "      <th>30</th>\n",
       "      <td>Type 2 (Socket Only)</td>\n",
       "      <td>Operational</td>\n",
       "      <td>16.0</td>\n",
       "      <td>230.0</td>\n",
       "      <td>3.7</td>\n",
       "      <td>AC (Single-Phase)</td>\n",
       "      <td>NaN</td>\n",
       "      <td>173393</td>\n",
       "      <td>NaN</td>\n",
       "      <td>0.0</td>\n",
       "      <td>NaN</td>\n",
       "      <td>1.0</td>\n",
       "      <td>38 King Henry's Road</td>\n",
       "      <td>London</td>\n",
       "      <td>38 King Henry's Road</td>\n",
       "      <td>NaN</td>\n",
       "      <td>NW3 3RP</td>\n",
       "      <td>51.542602</td>\n",
       "      <td>-0.159085</td>\n",
       "    </tr>\n",
       "    <tr>\n",
       "      <th>32</th>\n",
       "      <td>CCS (Type 2)</td>\n",
       "      <td>Operational</td>\n",
       "      <td>NaN</td>\n",
       "      <td>NaN</td>\n",
       "      <td>50.0</td>\n",
       "      <td>DC</td>\n",
       "      <td>1.0</td>\n",
       "      <td>99704</td>\n",
       "      <td>£0.108/kWh; for Polar Plus subscription member...</td>\n",
       "      <td>50.0</td>\n",
       "      <td>1.0</td>\n",
       "      <td>4.0</td>\n",
       "      <td>376 Hendon Way</td>\n",
       "      <td>London</td>\n",
       "      <td>376 Hendon Way</td>\n",
       "      <td>NaN</td>\n",
       "      <td>NW4 3LP</td>\n",
       "      <td>51.581303</td>\n",
       "      <td>-0.226801</td>\n",
       "    </tr>\n",
       "  </tbody>\n",
       "</table>\n",
       "</div>"
      ],
      "text/plain": [
       "    con-ConnectionTypeID con-StatusTypeID  con-Amps  con-Voltage  con-PowerKW  \\\n",
       "6   Type 2 (Socket Only)      Operational      32.0        230.0          7.0   \n",
       "30  Type 2 (Socket Only)      Operational      16.0        230.0          3.7   \n",
       "32          CCS (Type 2)      Operational       NaN          NaN         50.0   \n",
       "\n",
       "    con-CurrentTypeID  con-Quantity      ID  \\\n",
       "6   AC (Single-Phase)           2.0  101805   \n",
       "30  AC (Single-Phase)           NaN  173393   \n",
       "32                 DC           1.0   99704   \n",
       "\n",
       "                                            UsageCost  StatusTypeID  \\\n",
       "6   Inclusive; for Polar Plus subscription members...          50.0   \n",
       "30                                                NaN           0.0   \n",
       "32  £0.108/kWh; for Polar Plus subscription member...          50.0   \n",
       "\n",
       "    NumberOfPoints  UsageTypeID     AddressInfo.Title AddressInfo.Town  \\\n",
       "6              2.0          4.0        Aldermans Hill           London   \n",
       "30             NaN          1.0  38 King Henry's Road           London   \n",
       "32             1.0          4.0        376 Hendon Way           London   \n",
       "\n",
       "   AddressInfo.AddressLine1 AddressInfo.StateOrProvince AddressInfo.Postcode  \\\n",
       "6            Aldermans Hill                      London              N13 4PN   \n",
       "30     38 King Henry's Road                         NaN              NW3 3RP   \n",
       "32           376 Hendon Way                         NaN              NW4 3LP   \n",
       "\n",
       "    AddressInfo.Latitude  AddressInfo.Longitude  \n",
       "6              51.618561              -0.111586  \n",
       "30             51.542602              -0.159085  \n",
       "32             51.581303              -0.226801  "
      ]
     },
     "execution_count": 192,
     "metadata": {},
     "output_type": "execute_result"
    }
   ],
   "source": [
    "london = pd.DataFrame(df1.loc[(df1[\"AddressInfo.Town\"] == 'London')])\n",
    "london.head(3)"
   ]
  },
  {
   "cell_type": "code",
   "execution_count": 229,
   "id": "8423fa41-a2fd-4c48-b976-1e86c787635c",
   "metadata": {},
   "outputs": [
    {
     "data": {
      "text/plain": [
       "con-ConnectionTypeID\n",
       "BS1363 3 Pin 13 Amp             118\n",
       "Blue Commando (2P+E)              2\n",
       "CCS (Type 2)                    164\n",
       "CEE 5 Pin                         1\n",
       "CHAdeMO                         195\n",
       "Tesla (Model S/X)                19\n",
       "Tesla (Roadster)                  2\n",
       "Tesla Supercharger                7\n",
       "Type 1 (J1772)                  613\n",
       "Type 2 (Socket Only)           2538\n",
       "Type 2 (Tethered Connector)     138\n",
       "Unknown                           3\n",
       "dtype: int64"
      ]
     },
     "execution_count": 229,
     "metadata": {},
     "output_type": "execute_result"
    }
   ],
   "source": [
    "## The number of each EV charging plug types in London.\n",
    "plugType_london = london.groupby(['con-ConnectionTypeID']).size()\n",
    "plugType_london"
   ]
  },
  {
   "cell_type": "code",
   "execution_count": 230,
   "id": "a04234fb-4e2a-481c-ac03-f6a4188d52cb",
   "metadata": {},
   "outputs": [
    {
     "data": {
      "text/plain": [
       "AC (Single-Phase)    3088\n",
       "DC                    385\n",
       "AC (Three-Phase)      310\n",
       "Name: con-CurrentTypeID, dtype: int64"
      ]
     },
     "execution_count": 230,
     "metadata": {},
     "output_type": "execute_result"
    }
   ],
   "source": [
    "## EV charging connection types in London.\n",
    "currentType_london = london['con-CurrentTypeID'].value_counts()\n",
    "currentType_london"
   ]
  },
  {
   "cell_type": "code",
   "execution_count": 231,
   "id": "5888e006-2bff-4786-a465-ec85f606b10c",
   "metadata": {},
   "outputs": [
    {
     "data": {
      "image/png": "[encoded data removed]",
      "text/plain": [
       "<Figure size 1440x360 with 1 Axes>"
      ]
     },
     "metadata": {},
     "output_type": "display_data"
    }
   ],
   "source": [
    "plt.figure(figsize=(20,5))\n",
    "labels = ['AC (Single-Phase)', 'DC', 'AC (Three-Phase)']\n",
    "colors = sns.color_palette('pastel')[0:5]\n",
    "plt.pie(currentType_london,labels = labels, colors = colors,autopct=\"%.2f%%\")\n",
    "plt.title('EV charging connection types in London')\n",
    "plt.show()"
   ]
  },
  {
   "cell_type": "code",
   "execution_count": 232,
   "id": "db3fb84f-cae3-4484-af03-561cbf5ad4b5",
   "metadata": {},
   "outputs": [
    {
     "data": {
      "text/plain": [
       "Operational                   3676\n",
       "Not Operational                 47\n",
       "Planned For Future Date         28\n",
       "Unknown                         19\n",
       "Partly Operational (Mixed)      18\n",
       "Removed (Decommissioned)         2\n",
       "Name: con-StatusTypeID, dtype: int64"
      ]
     },
     "execution_count": 232,
     "metadata": {},
     "output_type": "execute_result"
    }
   ],
   "source": [
    "#How many EV connection points in London are operational.\n",
    "statusType_london = london['con-StatusTypeID'].value_counts()\n",
    "statusType_london"
   ]
  },
  {
   "cell_type": "code",
   "execution_count": null,
   "id": "28b4fb47-a51b-422e-9a44-7bd471e1ee28",
   "metadata": {},
   "outputs": [],
   "source": []
  }
 ],
 "metadata": {
  "kernelspec": {
   "display_name": "Python 3",
   "language": "python",
   "name": "python3"
  },
  "language_info": {
   "codemirror_mode": {
    "name": "ipython",
    "version": 3
   },
   "file_extension": ".py",
   "mimetype": "text/x-python",
   "name": "python",
   "nbconvert_exporter": "python",
   "pygments_lexer": "ipython3",
   "version": "3.9.12"
  }
 },
 "nbformat": 4,
 "nbformat_minor": 5
}
